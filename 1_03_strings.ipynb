{
  "cells": [
    {
      "cell_type": "markdown",
      "metadata": {
        "id": "view-in-github",
        "colab_type": "text"
      },
      "source": [
        "<a href=\"https://colab.research.google.com/github/MJMortensonWarwick/Programming_and_Big_Data_Analytics_2425/blob/main/1_03_strings.ipynb\" target=\"_parent\"><img src=\"https://colab.research.google.com/assets/colab-badge.svg\" alt=\"Open In Colab\"/></a>"
      ]
    },
    {
      "cell_type": "markdown",
      "id": "56ae3180",
      "metadata": {
        "id": "56ae3180"
      },
      "source": [
        "![](https://drive.google.com/uc?export=view&id=1vv_PsWBnUJwSCkwKDoJAC-vXjtaEA4Ts)"
      ]
    },
    {
      "cell_type": "code",
      "execution_count": null,
      "id": "ca2253b2",
      "metadata": {
        "cellView": "form",
        "id": "ca2253b2"
      },
      "outputs": [],
      "source": [
        "# @title\n",
        "%%html\n",
        "<!--- IGNORE THIS FOR FORMATTING PURPOSES ONLY --->\n",
        "<style>\n",
        "table {float:left}\n",
        "</style>"
      ]
    },
    {
      "cell_type": "markdown",
      "id": "e564b911",
      "metadata": {
        "id": "e564b911"
      },
      "source": [
        "# 1.03 Strings"
      ]
    },
    {
      "cell_type": "markdown",
      "id": "f72b3956",
      "metadata": {
        "id": "f72b3956"
      },
      "source": [
        "## Strings\n",
        "\n",
        "Strings are another simple data type to work with. A string is a value made up of text (or more precisely, made up of at least one character), and in Python strings are enclosed within single or double quotation marks."
      ]
    },
    {
      "cell_type": "code",
      "execution_count": null,
      "id": "88f3e226",
      "metadata": {
        "id": "88f3e226"
      },
      "outputs": [],
      "source": [
        "'This is a string.'"
      ]
    },
    {
      "cell_type": "code",
      "execution_count": null,
      "id": "a10c0028",
      "metadata": {
        "id": "a10c0028"
      },
      "outputs": [],
      "source": [
        "\"Strings are made up of 'characters', this also includes numbers.\""
      ]
    },
    {
      "cell_type": "code",
      "execution_count": null,
      "id": "fabc1259",
      "metadata": {
        "id": "fabc1259"
      },
      "outputs": [],
      "source": [
        "type(\"12345\")"
      ]
    },
    {
      "cell_type": "markdown",
      "id": "fb1606a4",
      "metadata": {
        "id": "fb1606a4"
      },
      "source": [
        "### Assigning Strings to a Variable\n",
        "\n",
        "You assign strings to a variable the same way as with the previous data types discussed. Use the assignment operator to assign the string to a variable name."
      ]
    },
    {
      "cell_type": "code",
      "execution_count": null,
      "id": "7d942bc8",
      "metadata": {
        "id": "7d942bc8"
      },
      "outputs": [],
      "source": [
        "name = \"Michael Mortenson\""
      ]
    },
    {
      "cell_type": "code",
      "execution_count": null,
      "id": "aa1e941a",
      "metadata": {
        "id": "aa1e941a"
      },
      "outputs": [],
      "source": [
        "last_name = \"Mortenson\""
      ]
    },
    {
      "cell_type": "code",
      "execution_count": null,
      "id": "c2e6c7e2",
      "metadata": {
        "id": "c2e6c7e2"
      },
      "outputs": [],
      "source": [
        "age = \"Unknown\""
      ]
    },
    {
      "cell_type": "markdown",
      "id": "4b781a73",
      "metadata": {
        "id": "4b781a73"
      },
      "source": [
        "### Single vs Double Quotation Marks\n",
        "\n",
        "It doesn’t matter which type of quotation mark you use, so long as you are consistent, however there will be times where you may need to make use of either type of quotation mark to fulfill your objective."
      ]
    },
    {
      "cell_type": "code",
      "execution_count": null,
      "id": "035a7f0d",
      "metadata": {
        "id": "035a7f0d"
      },
      "outputs": [],
      "source": [
        "single_quote_error = 'Bernardo O'Higgins'"
      ]
    },
    {
      "cell_type": "code",
      "execution_count": null,
      "id": "9574de46",
      "metadata": {
        "id": "9574de46"
      },
      "outputs": [],
      "source": [
        "double_quote_error = \"Liping said \"Direct all Python related questions to me, you can just relax Jordan!\"\""
      ]
    },
    {
      "cell_type": "markdown",
      "id": "ca26af80",
      "metadata": {
        "id": "ca26af80"
      },
      "source": [
        "If you run the above code, you will notice we get a syntax error, meaning Python does not interpret our code to be valid Python code. The cause of the above errors is that we have used the same type of quotation mark within our string. Python interprets this as the end of our string, with everything following being unrecognizable as valid Python code.\n",
        "\n",
        "One way of overcoming this issue,is to change the type of quotation mark you wrap your string around to the opposite of the quotation mark you used in your string."
      ]
    },
    {
      "cell_type": "code",
      "execution_count": null,
      "id": "45b59c7f",
      "metadata": {
        "id": "45b59c7f"
      },
      "outputs": [],
      "source": [
        "name = \"Bernardo O'Higgins\"\n",
        "print(name)"
      ]
    },
    {
      "cell_type": "code",
      "execution_count": null,
      "id": "79a21b8b",
      "metadata": {
        "id": "79a21b8b"
      },
      "outputs": [],
      "source": [
        "quote = 'The UG office have asked for \"100% participation in the module evaluation survey\" please.'\n",
        "print(quote)"
      ]
    },
    {
      "cell_type": "markdown",
      "id": "487c70c3",
      "metadata": {
        "id": "487c70c3"
      },
      "source": [
        "### Escape Characters\n",
        "\n",
        "In rare instances, a string will contain both single and double quotes, rendering the above method unable to work around the problem. Python has a way of fixing this problem by using escape characters. Escape characters allow you to insert illegal characters in a string. Python’s escape character is a backslash (\\\\) and you use it by inserting it before the illegal characters in a string."
      ]
    },
    {
      "cell_type": "code",
      "execution_count": null,
      "id": "deed12e2",
      "metadata": {
        "id": "deed12e2"
      },
      "outputs": [],
      "source": [
        "escape_example = '\"My friends call me Joan\" - Jeanne d\\'Arc (Probably)'"
      ]
    },
    {
      "cell_type": "markdown",
      "id": "ade510c3",
      "metadata": {
        "id": "ade510c3"
      },
      "source": [
        "#### Tabs and New Lines\n",
        "\n",
        "As we are discussing escape characters, it’s good to be aware of the new line and the tab escape characters in Python as well as using escape characters to break up long strings into multiple lines, as you will probably need to use them at some point when using strings.\n",
        "\n",
        "|Escape Character|Result|\n",
        "|:---:|:---:|\n",
        "|\\'|Single quote|\n",
        "|\\\"|Double quote|\n",
        "|\\n|New line|\n",
        "|\\t|Tab|\n",
        "|\\\\|Backslash|"
      ]
    },
    {
      "cell_type": "code",
      "execution_count": null,
      "id": "e5829b01",
      "metadata": {
        "id": "e5829b01"
      },
      "outputs": [],
      "source": [
        "escape_example2 = \"Last year nothing happened\\nThe year before nothing happened\\nAnd the year before that nothing happened.\\\n",
        "\\n\\t - Osamu Dazai\"\n",
        "\n",
        "print(escape_example2)"
      ]
    },
    {
      "cell_type": "code",
      "execution_count": null,
      "id": "28242ca3",
      "metadata": {
        "id": "28242ca3"
      },
      "outputs": [],
      "source": [
        "strings_new_line = \"Line 1\\nLine 2\\nLine 3\"\n",
        "print(strings_new_line)"
      ]
    },
    {
      "cell_type": "code",
      "execution_count": null,
      "id": "2c675b85",
      "metadata": {
        "id": "2c675b85"
      },
      "outputs": [],
      "source": [
        "strings_tabs = \"No tab\\tOne tab\\t\\tTwo tabs\\t\\t\\tThree tabs\\t\\t\\t\\tFour tabs.\"\n",
        "print(strings_tabs)"
      ]
    },
    {
      "cell_type": "code",
      "execution_count": null,
      "id": "79f758c6",
      "metadata": {
        "id": "79f758c6"
      },
      "outputs": [],
      "source": [
        "strings_backslash = \"If you want to use a backslash in your string, you will need to use double backslash. (\\\\)\"\n",
        "print(strings_backslash)"
      ]
    },
    {
      "cell_type": "markdown",
      "id": "ca2493a6",
      "metadata": {
        "id": "ca2493a6"
      },
      "source": [
        "## User Input\n",
        "\n",
        "A large chunk of software interacts with users, and a common way a user interacts with a program is by inputting data. In Python, we take user input by using the input() function."
      ]
    },
    {
      "cell_type": "code",
      "execution_count": null,
      "id": "36a914d7",
      "metadata": {
        "id": "36a914d7"
      },
      "outputs": [],
      "source": [
        "student_name = input(\"Enter your name: \")\n",
        "print(f\"Hello {student_name}, it's good to see you attend the module and I am glad you are here.\")"
      ]
    },
    {
      "cell_type": "code",
      "execution_count": null,
      "id": "f3f07115",
      "metadata": {
        "id": "f3f07115"
      },
      "outputs": [],
      "source": [
        "students_age = input(\"Enter your age: \")\n",
        "print(f\"You are {students_age} years old.\")"
      ]
    },
    {
      "cell_type": "code",
      "execution_count": null,
      "id": "f32edf48",
      "metadata": {
        "id": "f32edf48"
      },
      "outputs": [],
      "source": [
        "students_age_next_year = students_age + 1"
      ]
    },
    {
      "cell_type": "code",
      "execution_count": null,
      "id": "f9a10364",
      "metadata": {
        "id": "f9a10364"
      },
      "outputs": [],
      "source": [
        "type(students_age)"
      ]
    },
    {
      "cell_type": "markdown",
      "id": "28dc905c",
      "metadata": {
        "id": "28dc905c"
      },
      "source": [
        "When using the __input()__ function, you need to be aware of how Python always interprets the data entered by the user as a string. Even if the user only inputs numbers, it will be of data type string. This becomes a point of consideration if you ever wish to do something with that input which is not compatible with the string data type. In the above example, we see that trying to perform an arithmetic operation on a string and an integer results in an error.\n",
        "\n",
        "For our example above, we can use the __int()__ function to change the age from a string to an integer, as we have done previously. However, this only works if the user has only inputted numbers, if we try to convert text into an integer we will get a different error. Further on in the bootcamp, we will cover how we can ensure that a user is inputting the data we want, when we cover while loops and again when we cover testing."
      ]
    },
    {
      "cell_type": "code",
      "execution_count": null,
      "id": "91296baf",
      "metadata": {
        "id": "91296baf"
      },
      "outputs": [],
      "source": [
        "int(students_age) + 1"
      ]
    },
    {
      "cell_type": "code",
      "execution_count": null,
      "id": "0729eb8b",
      "metadata": {
        "id": "0729eb8b"
      },
      "outputs": [],
      "source": [
        "int(\"twenty-one\")"
      ]
    },
    {
      "cell_type": "markdown",
      "id": "43d5d41e",
      "metadata": {
        "id": "43d5d41e"
      },
      "source": [
        "## String Formatting\n",
        "\n",
        "In the previous section, you may have noticed how we inserted the value of our variable into a string. We call this string interpolation, and in the newer versions of Python 3 (3.6 and later), Python makes it super easy to format our strings by using ‘f-strings’(format strings). You utilise f-strings by putting the letter f before the quotations marks of your string and inserting the variables between a set of curly braces - {}."
      ]
    },
    {
      "cell_type": "code",
      "execution_count": null,
      "id": "2ce832ae",
      "metadata": {
        "id": "2ce832ae"
      },
      "outputs": [],
      "source": [
        "book = \"The Count of Monte Cristo\"\n",
        "author = \"Alexandre Dumas\"\n",
        "\n",
        "print(f\"The book I am currently reading is {book}, by {author}.\")"
      ]
    },
    {
      "cell_type": "markdown",
      "id": "948f4d1f",
      "metadata": {
        "id": "948f4d1f"
      },
      "source": [
        "Although f-strings are the easiest way to format strings, the previous ways of formatting strings are still valid and you will probably come across them at some point. Before the release of f-strings in Python 3.6 you had to use the format() method."
      ]
    },
    {
      "cell_type": "code",
      "execution_count": null,
      "id": "a679b892",
      "metadata": {
        "id": "a679b892"
      },
      "outputs": [],
      "source": [
        "classical_piece = \"Gymnopedie no.3\"\n",
        "composer = \"Erik Satie\"\n",
        "artist = \"Reinbert de Leeuw\"\n",
        "\n",
        "print(\"I am currently listening to {}, by {}, played by the late {}.\".format(classical_piece, composer, artist))\n",
        "\n",
        "print(\"In 1888 {1} composed {0}.\".format(classical_piece, composer, artist))"
      ]
    },
    {
      "cell_type": "markdown",
      "id": "ce67dec4",
      "metadata": {
        "id": "ce67dec4"
      },
      "source": [
        "The two ways are not too dissimilar, however using the format method can become more clunky when you are including lots of variables. The ordering of the variables also matters, Python will insert the variables in the order they appear in the format() method. This can become quite difficult when dealing with many variables or when you need to insert a variable more than once. You also have the choice of manually setting the order by using indexing (will cover indexes later), but this is also far from effortless when having to insert many variables."
      ]
    },
    {
      "cell_type": "markdown",
      "id": "eb5c9d8d",
      "metadata": {
        "id": "eb5c9d8d"
      },
      "source": [
        "## String Methods\n",
        "\n",
        "Above, we mentioned string methods. For now, just think of string methods as functions (similar to the int() function we used early) that only work on strings. There are too many string methods to go through them all individually, so we will just go over useful methods when dealing with user input. (Don't worry about the terminology, we will go over functions and methods later on.)\n",
        "\n",
        "Different users will input data differently. I’m sure you have seen people post online (or in module feedback). WHO ARE ALWAYS TYPING IN ALL CAPS or Feel The Need To Capitalise Every Single Word. This can cause problems for you when trying to match the input of your users to conditions you have set."
      ]
    },
    {
      "cell_type": "code",
      "execution_count": null,
      "id": "feed119d",
      "metadata": {
        "id": "feed119d"
      },
      "outputs": [],
      "source": [
        "\"yes\" == \"Yes\""
      ]
    },
    {
      "cell_type": "markdown",
      "id": "ec6c24cb",
      "metadata": {
        "id": "ec6c24cb"
      },
      "source": [
        "As you see above ‘yes’ with a lowercase y is not interpreted by Python as being equivalent to ‘Yes’ with an uppercase y, (note here we are using the double equals sign (==) to test for equality). It is therefore often good practice to convert string data inputted by a user to all lower case to avoid this issue.\n",
        "\n",
        "You can effortlessly change the case of your string using the many string methods that come with Python. The most common ones you will use are the string lower(), upper(), and title() method."
      ]
    },
    {
      "cell_type": "code",
      "execution_count": null,
      "id": "dafecd26",
      "metadata": {
        "id": "dafecd26"
      },
      "outputs": [],
      "source": [
        "name = \"MiChAeL mOrTeNsOn\"\n",
        "\n",
        "print(name.lower())\n",
        "print(name.upper())\n",
        "print(name.title())\n",
        "print(f\"\\n{name}\")"
      ]
    },
    {
      "cell_type": "markdown",
      "id": "bdbde841",
      "metadata": {
        "id": "bdbde841"
      },
      "source": [
        "An important thing to note is that we have not reassigned the variable by using a string method on it. String methods do not change the original string, they only return a new value when called that one time.\n",
        "\n",
        "If we want to apply the changes to our string we would reassign our variable in the same way we have previously."
      ]
    },
    {
      "cell_type": "code",
      "execution_count": null,
      "id": "c83fa8f6",
      "metadata": {
        "id": "c83fa8f6"
      },
      "outputs": [],
      "source": [
        "name = name.title()\n",
        "\n",
        "print(name)"
      ]
    },
    {
      "cell_type": "markdown",
      "id": "51454a3b",
      "metadata": {
        "id": "51454a3b"
      },
      "source": [
        "Finally, another common string method to use when processing user input and processing data is the strip() method, which removes any extra whitespace from the beginning or end of a string."
      ]
    },
    {
      "cell_type": "code",
      "execution_count": null,
      "id": "2b2b9029",
      "metadata": {
        "id": "2b2b9029"
      },
      "outputs": [],
      "source": [
        "city = \"    Coventry \"\n",
        "print(city)"
      ]
    },
    {
      "cell_type": "markdown",
      "id": "5b919ab0",
      "metadata": {
        "id": "5b919ab0"
      },
      "source": [
        "Above we can see our string has some leading and trailing whitespace. When we print our string, the leading white space is obvious, whereas the trailing whitespace is not. If you only wish to strip either the leading or trailing whitespace you can use lstrip() (for left) or rstrip() (for right)."
      ]
    },
    {
      "cell_type": "code",
      "execution_count": null,
      "id": "2e2f09f3",
      "metadata": {
        "id": "2e2f09f3"
      },
      "outputs": [],
      "source": [
        "print(city.strip())\n",
        "print(city.lstrip())\n",
        "print(city.rstrip())"
      ]
    },
    {
      "cell_type": "markdown",
      "id": "10eab0d8",
      "metadata": {
        "id": "10eab0d8"
      },
      "source": [
        "The __strip()__ method like the round function we used in the last notebook, comes with parameters. We are able to strip specific characters and not just whitespace, this can be useful for removing punctuation."
      ]
    },
    {
      "cell_type": "code",
      "execution_count": null,
      "id": "f3a10d7a",
      "metadata": {
        "id": "f3a10d7a"
      },
      "outputs": [],
      "source": [
        "percentage = \"50%\"\n",
        "print(percentage.rstrip(\"%\"))\n",
        "\n",
        "price = \"£7.99\"\n",
        "stripped_price = float(price.lstrip(\"£\"))\n",
        "print(stripped_price)"
      ]
    },
    {
      "cell_type": "code",
      "execution_count": null,
      "id": "14dafd1c",
      "metadata": {
        "id": "14dafd1c"
      },
      "outputs": [],
      "source": [
        "float(price)"
      ]
    },
    {
      "cell_type": "markdown",
      "id": "33398421",
      "metadata": {
        "id": "33398421"
      },
      "source": [
        "This is a simple example showing where using one of the __strip()__ methods is appropriate, we may want to perform some maths on some data containing product prices, to do this we would need to convert the data into a numeric data type (float in this case). Some data entries may include currency symbols and trying to convert these strings to a float will cause an error, as floats cannot contain symbols.\n",
        "\n",
        "This is just a basic overview of string methods, you can find a full list of strings methods [here](https://docs.python.org/3/library/stdtypes.html#string-methods)."
      ]
    },
    {
      "cell_type": "markdown",
      "id": "0fb7f8bc",
      "metadata": {
        "id": "0fb7f8bc"
      },
      "source": [
        "## String Concatenation\n",
        "\n",
        "In Python you may wish to join strings together. We call this __string concatenation__ and we perform string concatenation using the plus symbol, in the same way we would add two numbers together."
      ]
    },
    {
      "cell_type": "code",
      "execution_count": null,
      "id": "a797767c",
      "metadata": {
        "id": "a797767c"
      },
      "outputs": [],
      "source": [
        "first_name = \"Michael\"\n",
        "last_name = \"Mortenson\"\n",
        "greeting = \"Hello\"\n",
        "\n",
        "message = greeting + first_name + last_name\n",
        "print(message)"
      ]
    },
    {
      "cell_type": "markdown",
      "id": "e1621401",
      "metadata": {
        "id": "e1621401"
      },
      "source": [
        "Be aware when concatenating strings in this way you will need to add the spaces to seperate the words manually, this can be done by either adding the spaces to the actual value or by adding stings containing a spaces when concatenating."
      ]
    },
    {
      "cell_type": "code",
      "execution_count": null,
      "id": "f9b82a6a",
      "metadata": {
        "id": "f9b82a6a"
      },
      "outputs": [],
      "source": [
        "message = greeting + \" \" + first_name + \" \" + last_name + \".\"\n",
        "print(message)"
      ]
    },
    {
      "cell_type": "markdown",
      "id": "0c3e0d4c",
      "metadata": {
        "id": "0c3e0d4c"
      },
      "source": [
        "You may have noticed in the user input section, when we tried to perform arithmetic on a number represented as a string, we got a TypeError stating we “can only concatenate str (not “int”) to str“, because the + symbol is used for both addition and concatenation when you mix the data types it will raise an error. This combined with the clunkiness of having to add spaces manually is why I prefer using f-strings to concatenate strings, as we can interpolate many data types into the string."
      ]
    },
    {
      "cell_type": "code",
      "execution_count": null,
      "id": "4a5164c0",
      "metadata": {
        "id": "4a5164c0"
      },
      "outputs": [],
      "source": [
        "visitor_number = 1"
      ]
    },
    {
      "cell_type": "code",
      "execution_count": null,
      "id": "922660fd",
      "metadata": {
        "id": "922660fd"
      },
      "outputs": [],
      "source": [
        "message = greeting + \" \" + first_name + \" \" + last_name + \" you are visitor number \" + visitor_number + \".\""
      ]
    },
    {
      "cell_type": "code",
      "execution_count": null,
      "id": "d9c1a720",
      "metadata": {
        "id": "d9c1a720"
      },
      "outputs": [],
      "source": [
        "message = greeting + \" \" + first_name + \" \" + last_name + \" you are visitor number \" + str(visitor_number) + \".\"\n",
        "print(message)"
      ]
    },
    {
      "cell_type": "code",
      "execution_count": null,
      "id": "30d1b4de",
      "metadata": {
        "id": "30d1b4de"
      },
      "outputs": [],
      "source": [
        "message = f\"{greeting} {first_name} {last_name}, you are visitor number {visitor_number + 1}.\"\n",
        "print(message)"
      ]
    },
    {
      "cell_type": "markdown",
      "id": "f920249e",
      "metadata": {
        "id": "f920249e"
      },
      "source": [
        "Using an f-string for string concatenation is quicker, easier and more readable while also being less prone to TypeErrors than the traditional way of concatenating strings."
      ]
    },
    {
      "cell_type": "markdown",
      "id": "3bd081a5",
      "metadata": {
        "id": "3bd081a5"
      },
      "source": [
        "## String Slicing\n",
        "\n",
        "We now know in Python we can join strings together by concatenating them, we can also take strings apart, this is called string slicing. The code below shows some examples of string slicing. The code below will make more sense to you after the next notebook on the lists data structure."
      ]
    },
    {
      "cell_type": "code",
      "execution_count": null,
      "id": "6e90d2ef",
      "metadata": {
        "id": "6e90d2ef"
      },
      "outputs": [],
      "source": [
        "alphabet = \"ABCDEFGHIJKLMNOPQRSTUVWXYZ\""
      ]
    },
    {
      "cell_type": "code",
      "execution_count": null,
      "id": "18475678",
      "metadata": {
        "id": "18475678"
      },
      "outputs": [],
      "source": [
        "alphabet[0:10]"
      ]
    },
    {
      "cell_type": "code",
      "execution_count": null,
      "id": "4f9453e3",
      "metadata": {
        "id": "4f9453e3"
      },
      "outputs": [],
      "source": [
        "alphabet[16:26]"
      ]
    },
    {
      "cell_type": "code",
      "execution_count": null,
      "id": "ded4f966",
      "metadata": {
        "id": "ded4f966"
      },
      "outputs": [],
      "source": [
        "alphabet[-10:26]"
      ]
    },
    {
      "cell_type": "code",
      "execution_count": null,
      "id": "93fac49f",
      "metadata": {
        "id": "93fac49f"
      },
      "outputs": [],
      "source": [
        "alphabet[::2]"
      ]
    },
    {
      "cell_type": "code",
      "execution_count": null,
      "id": "3ea32d28",
      "metadata": {
        "id": "3ea32d28"
      },
      "outputs": [],
      "source": [
        "alphabet[::-1]"
      ]
    }
  ],
  "metadata": {
    "kernelspec": {
      "display_name": "Python 3 (ipykernel)",
      "language": "python",
      "name": "python3"
    },
    "language_info": {
      "codemirror_mode": {
        "name": "ipython",
        "version": 3
      },
      "file_extension": ".py",
      "mimetype": "text/x-python",
      "name": "python",
      "nbconvert_exporter": "python",
      "pygments_lexer": "ipython3",
      "version": "3.8.8"
    },
    "colab": {
      "provenance": [],
      "include_colab_link": true
    }
  },
  "nbformat": 4,
  "nbformat_minor": 5
}