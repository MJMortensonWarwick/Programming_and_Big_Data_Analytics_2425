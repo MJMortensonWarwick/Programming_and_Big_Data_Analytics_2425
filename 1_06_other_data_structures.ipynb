{
  "cells": [
    {
      "cell_type": "markdown",
      "metadata": {
        "id": "view-in-github",
        "colab_type": "text"
      },
      "source": [
        "<a href=\"https://colab.research.google.com/github/MJMortensonWarwick/Programming_and_Big_Data_Analytics_2425/blob/main/1_06_other_data_structures.ipynb\" target=\"_parent\"><img src=\"https://colab.research.google.com/assets/colab-badge.svg\" alt=\"Open In Colab\"/></a>"
      ]
    },
    {
      "cell_type": "markdown",
      "id": "30aa5d08",
      "metadata": {
        "id": "30aa5d08"
      },
      "source": [
        "![](https://drive.google.com/uc?export=view&id=1vv_PsWBnUJwSCkwKDoJAC-vXjtaEA4Ts)"
      ]
    },
    {
      "cell_type": "markdown",
      "id": "ef2ce000",
      "metadata": {
        "id": "ef2ce000"
      },
      "source": [
        "# 1.06 Other Data Structures"
      ]
    },
    {
      "cell_type": "markdown",
      "id": "c59e94a5",
      "metadata": {
        "id": "c59e94a5"
      },
      "source": [
        "## Tuples\n",
        "\n",
        "Tuples are a lot like lists, except they have some slightly different properties which we will touch on in due course. A tuple is (typically) made using normal brackets."
      ]
    },
    {
      "cell_type": "code",
      "execution_count": null,
      "id": "b4654af3",
      "metadata": {
        "id": "b4654af3"
      },
      "outputs": [],
      "source": [
        "first_tuple = (\"a\", 2, 5.5, False)"
      ]
    },
    {
      "cell_type": "markdown",
      "id": "f9a4dad0",
      "metadata": {
        "id": "f9a4dad0"
      },
      "source": [
        "_Note: We do not need the round brackets for single tuples only for nested tuples. So, first_tuple = “a”, 2, 5.5, False would work in exactly the same way. Any time we have a nested tuple (a tuple inside a tuple, or a tuple inside a list or dictionary), the brackets become necessary. Always using brackets is advisable as it makes the code more readable making it easier for you and others to understand the structure being used._\n",
        "\n",
        "_As with lists, we are creating an unordered structure of single items (rather than the key/value system of dictionaries) which can have repetition. Again we index (or slice) from a tuple in the same way as we would with a list_"
      ]
    },
    {
      "cell_type": "code",
      "execution_count": null,
      "id": "9cdd18d6",
      "metadata": {
        "id": "9cdd18d6"
      },
      "outputs": [],
      "source": [
        "first_tuple[1]"
      ]
    },
    {
      "cell_type": "markdown",
      "id": "8e75ec8b",
      "metadata": {
        "id": "8e75ec8b"
      },
      "source": [
        "One key difference between tuples and lists is that a tuple is __immutable__. This means that we cannot change items in a tuple in the way we would change an item in a list. Attemping to change items in a tuple will result in a TypeError."
      ]
    },
    {
      "cell_type": "code",
      "execution_count": null,
      "id": "c6414198",
      "metadata": {
        "id": "c6414198"
      },
      "outputs": [],
      "source": [
        "first_tuple[3] = True"
      ]
    },
    {
      "cell_type": "markdown",
      "id": "87928308",
      "metadata": {
        "id": "87928308"
      },
      "source": [
        "It is possible to include mutable items inside a tuple. For instance, if an item in a tuple is a list, it is possible to change items inside the list, by indexing in the usual fashion."
      ]
    },
    {
      "cell_type": "code",
      "execution_count": null,
      "id": "eb948d9b",
      "metadata": {
        "id": "eb948d9b"
      },
      "outputs": [],
      "source": [
        "second_tuple = ([\"Michael\", \"Mark\", \"Wenjuan\", \"Katy\"], \"Cheese\", 40000, True,)\n",
        "second_tuple[0][-1]"
      ]
    },
    {
      "cell_type": "code",
      "execution_count": null,
      "id": "719723b3",
      "metadata": {
        "id": "719723b3"
      },
      "outputs": [],
      "source": [
        "second_tuple[0].pop(-1)\n",
        "second_tuple"
      ]
    },
    {
      "cell_type": "markdown",
      "id": "dc952a04",
      "metadata": {
        "id": "dc952a04"
      },
      "source": [
        "In order to change an element in a Tuple, we would need to recreate the whole tuple object."
      ]
    },
    {
      "cell_type": "code",
      "execution_count": null,
      "id": "4fe566ec",
      "metadata": {
        "id": "4fe566ec"
      },
      "outputs": [],
      "source": [
        "second_tuple = ([\"Michael\", \"Mark\", \"Wenjuan\", \"Katy\"], \"Cheese\", 40000, False, True,)\n",
        "second_tuple"
      ]
    },
    {
      "cell_type": "markdown",
      "id": "02768c20",
      "metadata": {
        "id": "02768c20"
      },
      "source": [
        "Because tuples are immutable most of the list methods are not usuable with the exception of the __index()__ and __count()__ method."
      ]
    },
    {
      "cell_type": "markdown",
      "id": "dddde3d9",
      "metadata": {
        "id": "dddde3d9"
      },
      "source": [
        "## Sets\n",
        "\n",
        "Like tuples sets are a lot like lists with the main difference being that you are limited to only a single instance of each item (no duplicate values). Sets use the curly brackets, { }, like dictionaries, but have no key/value pairs (i.e. no colon separating values)."
      ]
    },
    {
      "cell_type": "code",
      "execution_count": null,
      "id": "fbf50e8a",
      "metadata": {
        "id": "fbf50e8a"
      },
      "outputs": [],
      "source": [
        "first_set = {\"u10000\", \"u10001\", \"u10002\"}\n",
        "first_set"
      ]
    },
    {
      "cell_type": "markdown",
      "id": "2dce167b",
      "metadata": {
        "id": "2dce167b"
      },
      "source": [
        "Unlike a list, indexing is not really relevant to sets. We do not care about the position of items, just whether they are in a set or not in a set. If we try to index a set you would get a TypeError."
      ]
    },
    {
      "cell_type": "code",
      "execution_count": null,
      "id": "d29595c4",
      "metadata": {
        "id": "d29595c4"
      },
      "outputs": [],
      "source": [
        "first_set[1]"
      ]
    },
    {
      "cell_type": "markdown",
      "id": "568f3bd0",
      "metadata": {
        "id": "568f3bd0"
      },
      "source": [
        "We can add data to our set by using either set.add( ) for single items and set.update( ) if we have multiple items."
      ]
    },
    {
      "cell_type": "code",
      "execution_count": null,
      "id": "8612a983",
      "metadata": {
        "id": "8612a983"
      },
      "outputs": [],
      "source": [
        "first_set.add(\"u10003\")\n",
        "first_set"
      ]
    },
    {
      "cell_type": "code",
      "execution_count": null,
      "id": "640b761c",
      "metadata": {
        "id": "640b761c"
      },
      "outputs": [],
      "source": [
        "first_set.update(['u10004', 'u10005'])\n",
        "first_set"
      ]
    },
    {
      "cell_type": "markdown",
      "id": "d128e7cf",
      "metadata": {
        "id": "d128e7cf"
      },
      "source": [
        "When updating a list to a set, the list itself does not become an item in the set, rather its individual values are added. In other words, the list is __unpacked__. If we consider the main use case of sets, checking if an item is in a set or not in a set, this makes some sense.\n",
        "\n",
        "We can also remove items by using the __set.discard( )__ method."
      ]
    },
    {
      "cell_type": "code",
      "source": [],
      "metadata": {
        "id": "Yd-6klnjLblt"
      },
      "id": "Yd-6klnjLblt",
      "execution_count": null,
      "outputs": []
    },
    {
      "cell_type": "code",
      "execution_count": null,
      "id": "1213642e",
      "metadata": {
        "id": "1213642e"
      },
      "outputs": [],
      "source": [
        "first_set.discard('u10004')\n",
        "first_set"
      ]
    },
    {
      "cell_type": "markdown",
      "id": "0c0e56f7",
      "metadata": {
        "id": "0c0e56f7"
      },
      "source": [
        "_Note, you can also use set.remove( ) to achieve a similar effect. The key difference is that an item is not in the set,_\n",
        "__set.remove( )__ _will result in an error, while_ __set.discard( )__ _will not._\n",
        "\n",
        "_A full list of set methods can be found [here](https://docs.python.org/3/library/stdtypes.html#set)_"
      ]
    },
    {
      "cell_type": "code",
      "execution_count": null,
      "id": "0588df33",
      "metadata": {
        "id": "0588df33"
      },
      "outputs": [],
      "source": []
    }
  ],
  "metadata": {
    "kernelspec": {
      "display_name": "Python 3 (ipykernel)",
      "language": "python",
      "name": "python3"
    },
    "language_info": {
      "codemirror_mode": {
        "name": "ipython",
        "version": 3
      },
      "file_extension": ".py",
      "mimetype": "text/x-python",
      "name": "python",
      "nbconvert_exporter": "python",
      "pygments_lexer": "ipython3",
      "version": "3.8.8"
    },
    "colab": {
      "provenance": [],
      "include_colab_link": true
    }
  },
  "nbformat": 4,
  "nbformat_minor": 5
}