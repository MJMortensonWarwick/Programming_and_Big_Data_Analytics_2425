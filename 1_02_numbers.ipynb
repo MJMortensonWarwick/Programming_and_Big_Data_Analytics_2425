{
  "cells": [
    {
      "cell_type": "markdown",
      "metadata": {
        "id": "view-in-github",
        "colab_type": "text"
      },
      "source": [
        "<a href=\"https://colab.research.google.com/github/MJMortensonWarwick/Programming_and_Big_Data_Analytics_2425/blob/main/1_02_numbers.ipynb\" target=\"_parent\"><img src=\"https://colab.research.google.com/assets/colab-badge.svg\" alt=\"Open In Colab\"/></a>"
      ]
    },
    {
      "cell_type": "markdown",
      "id": "565f9b60",
      "metadata": {
        "id": "565f9b60"
      },
      "source": [
        "![](https://drive.google.com/uc?export=view&id=1vv_PsWBnUJwSCkwKDoJAC-vXjtaEA4Ts)"
      ]
    },
    {
      "cell_type": "markdown",
      "id": "2498da26",
      "metadata": {
        "id": "2498da26"
      },
      "source": [
        "# 1.02 Numbers"
      ]
    },
    {
      "cell_type": "markdown",
      "id": "9ab67653",
      "metadata": {
        "id": "9ab67653"
      },
      "source": [
        " ## Integers\n",
        "\n",
        " An integer is a whole number with no decimal point, and are a simple data type to work with in Python."
      ]
    },
    {
      "cell_type": "code",
      "execution_count": null,
      "id": "b5dd2ac0",
      "metadata": {
        "id": "b5dd2ac0"
      },
      "outputs": [],
      "source": [
        "number_one = 48\n",
        "type(number_one)"
      ]
    },
    {
      "cell_type": "code",
      "execution_count": null,
      "id": "ff209ec8",
      "metadata": {
        "id": "ff209ec8"
      },
      "outputs": [],
      "source": [
        "number_two = -265\n",
        "type(number_two)"
      ]
    },
    {
      "cell_type": "markdown",
      "id": "297ed248",
      "metadata": {
        "id": "297ed248"
      },
      "source": [
        "## Floating Points\n",
        "\n",
        "A floating point number, sometimes called just __float__ is a number that contains a decimal point. Floating points are also a simple data type to work with in Python, although there are a few things to be aware of.\n",
        "\n",
        "Below are some examples of assigning floats to a variable, in the second example we see the number forty-eight. Notice that the type returns __float__, while in the previous section the number forty-eight returned __int__. While technically the same number, Python will always treat a number with a decimal point (even if 0) as a float."
      ]
    },
    {
      "cell_type": "code",
      "execution_count": null,
      "id": "4df4c889",
      "metadata": {
        "id": "4df4c889"
      },
      "outputs": [],
      "source": [
        "number_three = 3.3\n",
        "type(number_three)"
      ]
    },
    {
      "cell_type": "code",
      "execution_count": null,
      "id": "20d675c8",
      "metadata": {
        "id": "20d675c8"
      },
      "outputs": [],
      "source": [
        "number_four = 48.0\n",
        "type(number_four)"
      ]
    },
    {
      "cell_type": "markdown",
      "id": "594065ae",
      "metadata": {
        "id": "594065ae"
      },
      "source": [
        "## Arithmatic Operators\n",
        "\n",
        "In Python you can perform basic arithmatic operations on numbers, such as addition, subtraction, multiplication and division."
      ]
    },
    {
      "cell_type": "code",
      "execution_count": null,
      "id": "70b03aba",
      "metadata": {
        "id": "70b03aba"
      },
      "outputs": [],
      "source": [
        "2 + 6"
      ]
    },
    {
      "cell_type": "code",
      "execution_count": null,
      "id": "6b488e71",
      "metadata": {
        "id": "6b488e71"
      },
      "outputs": [],
      "source": [
        "6 - 2"
      ]
    },
    {
      "cell_type": "code",
      "execution_count": null,
      "id": "a800f8ed",
      "metadata": {
        "id": "a800f8ed"
      },
      "outputs": [],
      "source": [
        "2 * 6"
      ]
    },
    {
      "cell_type": "code",
      "execution_count": null,
      "id": "1a7b571d",
      "metadata": {
        "id": "1a7b571d"
      },
      "outputs": [],
      "source": [
        "6 / 2"
      ]
    },
    {
      "cell_type": "markdown",
      "id": "2f041465",
      "metadata": {
        "id": "2f041465"
      },
      "source": [
        "## Changing Types Dynamically\n",
        "\n",
        "Whenever you perform a division using Python the standard return data type will always be float, even if the result would be a whole number. In some cases we may want to change the type of a variable within an operation. Fortunately,\n",
        "Python includes several inbuilt __functions__ to do this such as __int()__ to convert to integer; __float()__ to convert to float:"
      ]
    },
    {
      "cell_type": "code",
      "execution_count": null,
      "id": "460ec4fb",
      "metadata": {
        "id": "460ec4fb"
      },
      "outputs": [],
      "source": [
        "type(6/2)"
      ]
    },
    {
      "cell_type": "code",
      "execution_count": null,
      "id": "390207a5",
      "metadata": {
        "id": "390207a5"
      },
      "outputs": [],
      "source": [
        "type(int(6/2))"
      ]
    },
    {
      "cell_type": "code",
      "execution_count": null,
      "id": "08019ee6",
      "metadata": {
        "id": "08019ee6"
      },
      "outputs": [],
      "source": [
        "type(2+2)"
      ]
    },
    {
      "cell_type": "code",
      "execution_count": null,
      "id": "ee8a1642",
      "metadata": {
        "id": "ee8a1642"
      },
      "outputs": [],
      "source": [
        "type(float(2+2))"
      ]
    },
    {
      "cell_type": "markdown",
      "id": "6fcd8320",
      "metadata": {
        "id": "6fcd8320"
      },
      "source": [
        "## Arithmatic Operations with Floats\n",
        "\n",
        "Another thing to be aware of regarding floats, is that any mathematical operation that uses a float will return a float, even if the result is a whole number."
      ]
    },
    {
      "cell_type": "code",
      "execution_count": null,
      "id": "caa1a752",
      "metadata": {
        "id": "caa1a752"
      },
      "outputs": [],
      "source": [
        "2.0 + 6.0"
      ]
    },
    {
      "cell_type": "code",
      "execution_count": null,
      "id": "85c8dc4b",
      "metadata": {
        "id": "85c8dc4b"
      },
      "outputs": [],
      "source": [
        "2 * 6.0"
      ]
    },
    {
      "cell_type": "code",
      "execution_count": null,
      "id": "c82b3f84",
      "metadata": {
        "id": "c82b3f84"
      },
      "outputs": [],
      "source": [
        "6 - 2.0"
      ]
    },
    {
      "cell_type": "markdown",
      "id": "416c4c20",
      "metadata": {
        "id": "416c4c20"
      },
      "source": [
        "## Floating Point Inaccuracy\n",
        "\n",
        "It is possible that when dealing with floats you may get an unexpected answer (see below), this is unfortunately an issue that computers have, where they cannot represent certain fractions precisely as __binary__, just like how our number system makes it impossible to represent the fraction $1/3$ precisely in decimal form."
      ]
    },
    {
      "cell_type": "code",
      "execution_count": null,
      "id": "8fd81f8d",
      "metadata": {
        "id": "8fd81f8d"
      },
      "outputs": [],
      "source": [
        "0.2 + 0.1"
      ]
    },
    {
      "cell_type": "markdown",
      "id": "e8323b79",
      "metadata": {
        "id": "e8323b79"
      },
      "source": [
        "## Rounding Numbers\n",
        "\n",
        "Another inbuilt function that comes with Python is the round() function, which as the name suggest rounds a number. Use this like we used the __int()__ and __float()__ functions above by wrapping it around a float."
      ]
    },
    {
      "cell_type": "code",
      "execution_count": null,
      "id": "f0313bc4",
      "metadata": {
        "id": "f0313bc4"
      },
      "outputs": [],
      "source": [
        "round(4.8)"
      ]
    },
    {
      "cell_type": "code",
      "execution_count": null,
      "id": "16363659",
      "metadata": {
        "id": "16363659"
      },
      "outputs": [],
      "source": [
        "round(4.3)"
      ]
    },
    {
      "cell_type": "code",
      "execution_count": null,
      "id": "aa86aca7",
      "metadata": {
        "id": "aa86aca7"
      },
      "outputs": [],
      "source": [
        "round(4.5)"
      ]
    },
    {
      "cell_type": "code",
      "execution_count": null,
      "id": "02c117a0",
      "metadata": {
        "id": "02c117a0"
      },
      "outputs": [],
      "source": [
        "round(3.5)"
      ]
    },
    {
      "cell_type": "markdown",
      "id": "296ec73d",
      "metadata": {
        "id": "296ec73d"
      },
      "source": [
        "We should bring our attention to the final two examples of rounding above, in both cases the decimal is .5, meaning that it is equally between the two nearest integers. The most common method of rounding has usually been to always round up in this scenario, however, Python rounds to the nearest even number (also known as bankers rounding).\n",
        "\n",
        "We can also set how many decimal places to round to, by using the optional digits __parameter__, as you get more used to reading Python documentation you will more easily understand all the things a function can do. We use the round function to fix our float issue mentioend in the previous section."
      ]
    },
    {
      "cell_type": "code",
      "execution_count": null,
      "id": "a8dc4762",
      "metadata": {
        "id": "a8dc4762"
      },
      "outputs": [],
      "source": [
        "round(0.2 + 0.1, 1)"
      ]
    },
    {
      "cell_type": "code",
      "execution_count": null,
      "id": "d1f0da40",
      "metadata": {
        "id": "d1f0da40"
      },
      "outputs": [],
      "source": [
        "round(3.333333333333333, 3)"
      ]
    },
    {
      "cell_type": "markdown",
      "id": "12cb5fea",
      "metadata": {
        "id": "12cb5fea"
      },
      "source": [
        "## Raising a Number to a Power\n",
        "\n",
        "To raise a number to a power you can use the exponentiation operator which is two asterisks (\\*\\*) followed by the power you wish to raise by."
      ]
    },
    {
      "cell_type": "code",
      "execution_count": null,
      "id": "ad8822cb",
      "metadata": {
        "id": "ad8822cb"
      },
      "outputs": [],
      "source": [
        "6 ** 2"
      ]
    },
    {
      "cell_type": "code",
      "execution_count": null,
      "id": "1a64abc8",
      "metadata": {
        "id": "1a64abc8"
      },
      "outputs": [],
      "source": [
        "6 ** 3"
      ]
    },
    {
      "cell_type": "code",
      "execution_count": null,
      "id": "bd8625f5",
      "metadata": {
        "id": "bd8625f5"
      },
      "outputs": [],
      "source": [
        "6 ** 6"
      ]
    },
    {
      "cell_type": "markdown",
      "id": "7a14a290",
      "metadata": {
        "id": "7a14a290"
      },
      "source": [
        "## Order of Operations\n",
        "\n",
        "Arithmetic in Python follows the standard order of operations. The order of operations is:\n",
        "- Brackets (Paranthesis)\n",
        "- Indicies (Exponents or Orders)\n",
        "- Division/Multiplication\n",
        "- Addition/Subtraction\n",
        "\n",
        "This is usually shortered to an easy to remember acronym, such as: BIDMAS, BODMAS, BEDMAS or PEMDAS.\n"
      ]
    },
    {
      "cell_type": "code",
      "execution_count": null,
      "id": "c55e40a6",
      "metadata": {
        "id": "c55e40a6"
      },
      "outputs": [],
      "source": [
        "2 + 6 * 5"
      ]
    },
    {
      "cell_type": "code",
      "execution_count": null,
      "id": "5979f204",
      "metadata": {
        "id": "5979f204"
      },
      "outputs": [],
      "source": [
        "(2 + 6) * 5"
      ]
    },
    {
      "cell_type": "markdown",
      "id": "2bd13e4c",
      "metadata": {
        "id": "2bd13e4c"
      },
      "source": [
        "## Math Module\n",
        "\n",
        "Included in Pythons standard library are various mathematical tools, such as the math module, this is not necessary for us presently, however, feel free to play around with some of the functions available. You can view a list [here](https://docs.python.org/3/library/math.html). To use the math functions you must import the math module first, then you can use the functions in the same way as you have previously."
      ]
    },
    {
      "cell_type": "code",
      "execution_count": null,
      "id": "a7310c86",
      "metadata": {
        "id": "a7310c86"
      },
      "outputs": [],
      "source": [
        "import math\n",
        "\n",
        "print(math.factorial(3)) # 1 * 2 * 3\n",
        "print(math.factorial(4)) # 1 * 2 * 3 * 4\n",
        "print(math.factorial(5)) # 1 * 2 * 3 * 4 * 5"
      ]
    }
  ],
  "metadata": {
    "kernelspec": {
      "display_name": "Python 3 (ipykernel)",
      "language": "python",
      "name": "python3"
    },
    "language_info": {
      "codemirror_mode": {
        "name": "ipython",
        "version": 3
      },
      "file_extension": ".py",
      "mimetype": "text/x-python",
      "name": "python",
      "nbconvert_exporter": "python",
      "pygments_lexer": "ipython3",
      "version": "3.8.8"
    },
    "colab": {
      "provenance": [],
      "include_colab_link": true
    }
  },
  "nbformat": 4,
  "nbformat_minor": 5
}