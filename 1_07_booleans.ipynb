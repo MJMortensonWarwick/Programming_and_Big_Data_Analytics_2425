{
  "cells": [
    {
      "cell_type": "markdown",
      "metadata": {
        "id": "view-in-github",
        "colab_type": "text"
      },
      "source": [
        "<a href=\"https://colab.research.google.com/github/MJMortensonWarwick/Programming_and_Big_Data_Analytics_2425/blob/main/1_07_booleans.ipynb\" target=\"_parent\"><img src=\"https://colab.research.google.com/assets/colab-badge.svg\" alt=\"Open In Colab\"/></a>"
      ]
    },
    {
      "cell_type": "markdown",
      "id": "097c2da7",
      "metadata": {
        "id": "097c2da7"
      },
      "source": [
        "![](https://drive.google.com/uc?export=view&id=1vv_PsWBnUJwSCkwKDoJAC-vXjtaEA4Ts)"
      ]
    },
    {
      "cell_type": "markdown",
      "id": "53037cf5",
      "metadata": {
        "id": "53037cf5"
      },
      "source": [
        "# 1.07 Booleans"
      ]
    },
    {
      "cell_type": "markdown",
      "id": "e462458c",
      "metadata": {
        "id": "e462458c"
      },
      "source": [
        "Another commonly used data type is Booleans, a measure of whether something is true or if it is\n",
        "false. A Boolean can only ever be one of these states. A Boolean value is assigned by typing\n",
        "either __True__ or __False__, with the first letter capitalised and no quotation marks."
      ]
    },
    {
      "cell_type": "code",
      "execution_count": null,
      "id": "24246fdc",
      "metadata": {
        "id": "24246fdc"
      },
      "outputs": [],
      "source": [
        "doing_asych = True\n",
        "type(doing_asych)"
      ]
    },
    {
      "cell_type": "code",
      "execution_count": null,
      "id": "a89f903b",
      "metadata": {
        "id": "a89f903b"
      },
      "outputs": [],
      "source": [
        "regretting_life_choices = \"True\"\n",
        "type(regretting_life_choices)"
      ]
    },
    {
      "cell_type": "markdown",
      "id": "7549dc96",
      "metadata": {
        "id": "7549dc96"
      },
      "source": [
        "The variable _regretting_life_choices_ will be treated by Python as a four-character string, in the fashion described above. However, _doing_asych_ is not a string but a state – a state of being __True__ in this case. For a more illustrative example of where this would be used, consider the case of creating an account on a website such as Github. When a user creates an account we want them to verify their email, and until this is done we will not give them access to the account. When initialising the account it may be set up with a variable associated with it that looks something like:"
      ]
    },
    {
      "cell_type": "code",
      "execution_count": null,
      "id": "92d31ca0",
      "metadata": {
        "id": "92d31ca0"
      },
      "outputs": [],
      "source": [
        "account_is_verified = False"
      ]
    },
    {
      "cell_type": "markdown",
      "id": "b8757671",
      "metadata": {
        "id": "b8757671"
      },
      "source": [
        "This variable can then be changed to True once the email has been verified (and therefore allowing the user to access their account)."
      ]
    },
    {
      "cell_type": "markdown",
      "id": "32392821",
      "metadata": {
        "id": "32392821"
      },
      "source": [
        "## Conditional Statements\n",
        "\n",
        "We will rely on booleans when performing conditional statements. A conditional statement is a check for a condition, which determines if a piece of code will execute. Only if the condition is True will the code execute. To determine if the condition is True we use a logical test.\n",
        "\n"
      ]
    },
    {
      "cell_type": "markdown",
      "id": "91b3eb6a",
      "metadata": {
        "id": "91b3eb6a"
      },
      "source": [
        "### Logical Tests (Comparison Operators)\n",
        "\n",
        "The standard logical conditions used in mathematics can be used as a logical test.\n",
        "\n",
        "- Less than: x < y\n",
        "- Greater than: x > y\n",
        "- Less than or equal to: x <= y\n",
        "- Greater than or equal to: x >= y\n",
        "- Equal to: x == y\n",
        "- Not Equal to: x != y"
      ]
    },
    {
      "cell_type": "code",
      "execution_count": null,
      "id": "400604a7",
      "metadata": {
        "id": "400604a7"
      },
      "outputs": [],
      "source": [
        "4 < 5"
      ]
    },
    {
      "cell_type": "code",
      "execution_count": null,
      "id": "a524a6bd",
      "metadata": {
        "id": "a524a6bd"
      },
      "outputs": [],
      "source": [
        "4 > 5"
      ]
    },
    {
      "cell_type": "code",
      "execution_count": null,
      "id": "58548748",
      "metadata": {
        "id": "58548748"
      },
      "outputs": [],
      "source": [
        "4 <= 4"
      ]
    },
    {
      "cell_type": "code",
      "execution_count": null,
      "id": "d5061573",
      "metadata": {
        "id": "d5061573"
      },
      "outputs": [],
      "source": [
        "3 >= 5"
      ]
    },
    {
      "cell_type": "code",
      "execution_count": null,
      "id": "76bab28e",
      "metadata": {
        "id": "76bab28e"
      },
      "outputs": [],
      "source": [
        "surname = \"Black\"\n",
        "colour = \"Black\"\n",
        "\n",
        "surname == colour"
      ]
    },
    {
      "cell_type": "code",
      "execution_count": null,
      "id": "8daf51cb",
      "metadata": {
        "id": "8daf51cb"
      },
      "outputs": [],
      "source": [
        "True != \"True\""
      ]
    },
    {
      "cell_type": "markdown",
      "id": "68861fd8",
      "metadata": {
        "id": "68861fd8"
      },
      "source": [
        "In the fifth example we can see that although the two variables are different the data stored in the variables are the same, returning True when an equality logical test is performed."
      ]
    },
    {
      "cell_type": "markdown",
      "id": "f40cf179",
      "metadata": {
        "id": "f40cf179"
      },
      "source": [
        "### Logical Tests (Identity Operators)\n",
        "\n",
        "There are only two identity operators:\n",
        "- is\n",
        "- is not\n",
        "\n",
        "They may sound the same as == and != but identity operators are not checking for equality, but infact checking if the objects being compared are actually the same object. You could have two people of the same age, their age may be equal but they are not the same person."
      ]
    },
    {
      "cell_type": "code",
      "execution_count": null,
      "id": "f9e8652e",
      "metadata": {
        "id": "f9e8652e"
      },
      "outputs": [],
      "source": [
        "list1 = [\"Mark\", \"Michael\", \"Wenjuan\", \"Katy\"]\n",
        "list2 = [\"Katy\", \"Michael\", \"Wenjuan\", \"Mark\"]\n",
        "\n",
        "list1 is list2"
      ]
    },
    {
      "cell_type": "code",
      "execution_count": null,
      "id": "c234ae2c",
      "metadata": {
        "id": "c234ae2c"
      },
      "outputs": [],
      "source": [
        "list3 = list1\n",
        "list1 is list3"
      ]
    },
    {
      "cell_type": "code",
      "execution_count": null,
      "id": "04b21433",
      "metadata": {
        "id": "04b21433"
      },
      "outputs": [],
      "source": [
        "list3 is not list2"
      ]
    },
    {
      "cell_type": "code",
      "execution_count": null,
      "id": "85a9de0d",
      "metadata": {
        "id": "85a9de0d"
      },
      "outputs": [],
      "source": [
        "surname is colour"
      ]
    },
    {
      "cell_type": "markdown",
      "id": "038249e4",
      "metadata": {
        "id": "038249e4"
      },
      "source": [
        "We can see that list1 and list2 although containing the exact same elements are not the same object. We then create a new list called list3 that is equal to list1, you may think that list3 is now independant from list1, but list3 is actually only a reference to list1. Any changes you make to list1 would infact effect list3."
      ]
    },
    {
      "cell_type": "code",
      "execution_count": null,
      "id": "d553461d",
      "metadata": {
        "id": "d553461d"
      },
      "outputs": [],
      "source": [
        "list1.append(\"James\")\n",
        "list3"
      ]
    },
    {
      "cell_type": "markdown",
      "id": "bc18eb5d",
      "metadata": {
        "id": "bc18eb5d"
      },
      "source": [
        "This differs from the two variables storing the same string. The two variables will return True, if you compare them using the is operator. To save memory, Python will not create new objects for variables that contain the same integer or string value as another variable, we call this __interning__. This is significantly above the scope of this notebook, but it is possible you may have tried to compare an integer or string variable."
      ]
    },
    {
      "cell_type": "markdown",
      "id": "c128509f",
      "metadata": {
        "id": "c128509f"
      },
      "source": [
        "### Logical Tests (Membership Operators)\n",
        "\n",
        "You will almost defintely need to use the in keyword at some point in time. The in keyword is another type of operator that checks for the presence of a value inside a sequence type object (e.g. A list)."
      ]
    },
    {
      "cell_type": "code",
      "execution_count": null,
      "id": "10d4e25e",
      "metadata": {
        "id": "10d4e25e"
      },
      "outputs": [],
      "source": [
        "\"Michael\" in list1"
      ]
    },
    {
      "cell_type": "code",
      "execution_count": null,
      "id": "4b20add8",
      "metadata": {
        "id": "4b20add8"
      },
      "outputs": [],
      "source": [
        "\"Katy\" not in list1"
      ]
    },
    {
      "cell_type": "markdown",
      "id": "8d3ea5ae",
      "metadata": {
        "id": "8d3ea5ae"
      },
      "source": [
        "### Logical Tests (Logical Operators)\n",
        "\n",
        "Logical operators are unique in that they cannot be used as a condition statement alone, but are used to combine multiple logical tests in a condition statement.\n",
        "\n",
        "The logical operators are:\n",
        "- and: Returns True if **all** statements are True\n",
        "- or: Returns True if **at least one** statement is True\n",
        "- not: Returns the **reverse** result of any condition statement."
      ]
    },
    {
      "cell_type": "code",
      "execution_count": null,
      "id": "92ded3ba",
      "metadata": {
        "id": "92ded3ba"
      },
      "outputs": [],
      "source": [
        "\"Michael\" in list1 and \"Salimeh\" in list1"
      ]
    },
    {
      "cell_type": "code",
      "execution_count": null,
      "id": "6a5b4e81",
      "metadata": {
        "id": "6a5b4e81"
      },
      "outputs": [],
      "source": [
        "\"Mark\" in list1 or \"Salimeh\" in list1"
      ]
    },
    {
      "cell_type": "code",
      "execution_count": null,
      "id": "9bfa0818",
      "metadata": {
        "id": "9bfa0818"
      },
      "outputs": [],
      "source": [
        "not \"Salimeh\" in list1"
      ]
    }
  ],
  "metadata": {
    "kernelspec": {
      "display_name": "Python 3 (ipykernel)",
      "language": "python",
      "name": "python3"
    },
    "language_info": {
      "codemirror_mode": {
        "name": "ipython",
        "version": 3
      },
      "file_extension": ".py",
      "mimetype": "text/x-python",
      "name": "python",
      "nbconvert_exporter": "python",
      "pygments_lexer": "ipython3",
      "version": "3.8.8"
    },
    "colab": {
      "provenance": [],
      "include_colab_link": true
    }
  },
  "nbformat": 4,
  "nbformat_minor": 5
}