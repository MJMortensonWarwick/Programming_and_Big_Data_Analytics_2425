{
  "cells": [
    {
      "cell_type": "markdown",
      "metadata": {
        "id": "view-in-github",
        "colab_type": "text"
      },
      "source": [
        "<a href=\"https://colab.research.google.com/github/MJMortensonWarwick/Programming_and_Big_Data_Analytics_2425/blob/main/1_11_classes_and_oop.ipynb\" target=\"_parent\"><img src=\"https://colab.research.google.com/assets/colab-badge.svg\" alt=\"Open In Colab\"/></a>"
      ]
    },
    {
      "cell_type": "markdown",
      "metadata": {
        "id": "Il3v-GEbTRrS"
      },
      "source": [
        "![](https://drive.google.com/uc?export=view&id=1vv_PsWBnUJwSCkwKDoJAC-vXjtaEA4Ts)"
      ],
      "id": "Il3v-GEbTRrS"
    },
    {
      "cell_type": "markdown",
      "metadata": {
        "id": "oZegTqiqTRrT"
      },
      "source": [
        "# 1.11 Classes and Object-Orientated Programming"
      ],
      "id": "oZegTqiqTRrT"
    },
    {
      "cell_type": "markdown",
      "metadata": {
        "id": "otAf9teSTRrT"
      },
      "source": [
        "The easiest way to think about classes is as object creators. They act as blueprint or cooking recipe: they are a set of rules that program follows to make an object of this type (e.g. a consumer product or a meal).\n",
        "\n",
        "The objects that are made of each class have _properties_ and _methods_. A property is a thing about that object - in other words a variable assignment. If we continue our product blueprint metaphor then a property of an object created following that blueprint may have a property such as weight or colour. A method is something that an object of that class can do - i.e. a function. Again the metaphor might be that our product can have a particular functionality such as displaying the battery level and so on.\n",
        "\n",
        "It is probably easier to understand with a few examples!"
      ],
      "id": "otAf9teSTRrT"
    },
    {
      "cell_type": "code",
      "execution_count": null,
      "metadata": {
        "id": "TN2iDvOtTRrT"
      },
      "outputs": [],
      "source": [
        "class Teacher: # by convention the first letter of a class is usually capitalised\n",
        "    name = \"Mark\"\n",
        "    age = 72"
      ],
      "id": "TN2iDvOtTRrT"
    },
    {
      "cell_type": "markdown",
      "metadata": {
        "id": "Tna5M20FTRrU"
      },
      "source": [
        "We have now the 'blueprint' for objects of type __Teacher__ - each object we create (_instantiate_ in OOP terminology) will have the name 'Mark' and an age of 72. We can verify that in code by creating such an object with a variable name."
      ],
      "id": "Tna5M20FTRrU"
    },
    {
      "cell_type": "code",
      "execution_count": null,
      "metadata": {
        "id": "3H1hsgzMTRrU"
      },
      "outputs": [],
      "source": [
        "teacher1 = Teacher()\n",
        "print(teacher1.name)\n",
        "print(teacher1.age)"
      ],
      "id": "3H1hsgzMTRrU"
    },
    {
      "cell_type": "markdown",
      "metadata": {
        "id": "Q-e1RRnbTRrU"
      },
      "source": [
        "As we would have expected, we now have an object of class __Teacher__ that has the properties:\n",
        "name == 'Mark';\n",
        "age == 72\n",
        "\n",
        "However, what should be obvious from this is that every object of this class would have exactly the same properties, and therefore would be identical (and not very useful/interesting because of this). Something more useful would be if our teachers had different names and ages.\n",
        "\n",
        "To this we need more flexible properties and objects (which in practice means properties that are created at the time the object is created). To achieve this we need to write into our classes an _instantiation_ step and a sense of _self_ that each object will have."
      ],
      "id": "Q-e1RRnbTRrU"
    },
    {
      "cell_type": "code",
      "execution_count": null,
      "metadata": {
        "id": "bvlMyUjRTRrU"
      },
      "outputs": [],
      "source": [
        "from random import randint\n",
        "\n",
        "class Teacher: # by convention the first letter of a class is usually capitalised\n",
        "    def __init__(self, name, age):\n",
        "        self.name = name\n",
        "        self.age = age\n",
        "\n",
        "teacher1 = Teacher(\"Mark\", randint(21,88))\n",
        "teacher2 = Teacher(\"Michael\", randint(21,88))\n",
        "\n",
        "print(teacher1.name)\n",
        "print(teacher2.name)\n",
        "print(teacher1.age)"
      ],
      "id": "bvlMyUjRTRrU"
    },
    {
      "cell_type": "markdown",
      "metadata": {
        "id": "UuXNCvx9TRrV"
      },
      "source": [
        "Here inside our class we have a function that is run at the _instantiation_ step that assigns the specific properties of name and age. When we create an object of the class we specify the properties we want the object to have, much like if we were to call a function that had these arguments. In this particular case, we are fixing the name of each teacher, but randomly assigning an age between 21 and 88 (see previous notebook).\n",
        "\n",
        "_Note, the syntax is two underscores next to each other \"__\", followed by the variable name and then another two underscores. The technical term for these are Dunder methods._\n",
        "\n",
        "We can create methods in a similar way:"
      ],
      "id": "UuXNCvx9TRrV"
    },
    {
      "cell_type": "code",
      "execution_count": null,
      "metadata": {
        "id": "AMFzCJHtTRrV"
      },
      "outputs": [],
      "source": [
        "class Teacher: # by convention the first letter of a class is usually capitalised\n",
        "    def __init__(self, name, age):\n",
        "        self.name = name\n",
        "        self.age = age\n",
        "\n",
        "    def greet_class(self):\n",
        "        return f\"Hello class. My name is {self.name} and I am {self.age} years old\"\n",
        "\n",
        "teacher1 = Teacher('Mark', 72)\n",
        "teacher1.greet_class()"
      ],
      "id": "AMFzCJHtTRrV"
    },
    {
      "cell_type": "markdown",
      "metadata": {
        "id": "NifmNaW3TRrV"
      },
      "source": [
        "In many ways this is just a normal function except it requires _self_ to be passed to it. That is it requires an object of the class __Teacher__ to be passed to the function, as all objects of this class have the properties \"name\" and \"age\" which is then used in the function."
      ],
      "id": "NifmNaW3TRrV"
    },
    {
      "cell_type": "markdown",
      "metadata": {
        "id": "KxIypzXDTRrV"
      },
      "source": [
        "We may also want to store some information about the object - this is useful if we want to inspect an instance later. Currently if we were to print \"teacher1\" it would just tell you this is an object. The following code associates a description to each object in the class."
      ],
      "id": "KxIypzXDTRrV"
    },
    {
      "cell_type": "code",
      "execution_count": null,
      "metadata": {
        "id": "Ev-7euV2TRrV"
      },
      "outputs": [],
      "source": [
        "class Teacher: # by convention the first letter of a class is usually capitalised\n",
        "    def __init__(self, name, age):\n",
        "        self.name = name\n",
        "        self.age = age\n",
        "\n",
        "    def __str__(self):\n",
        "        return f\"{self.name} is an object of the class 'Teacher' and is {self.age} years old\"\n",
        "\n",
        "    def greet_class(self):\n",
        "        return f\"Hello class. My name is {self.name} and I am {self.age} years old\"\n",
        "\n",
        "teacher1 = Teacher('Mark', 72)\n",
        "print(teacher1)"
      ],
      "id": "Ev-7euV2TRrV"
    },
    {
      "cell_type": "markdown",
      "metadata": {
        "id": "olEQ5XDQTRrW"
      },
      "source": [
        "In OOP projects of a significant size we often will build _child_ classes, which are sub-classes of objects inside a parent class such as __Teacher__. This is useful because sometimes there will be shared methods we may associate with some instances of a class but not with others.\n",
        "\n",
        "As an example, potentially we may want:"
      ],
      "id": "olEQ5XDQTRrW"
    },
    {
      "cell_type": "code",
      "execution_count": null,
      "metadata": {
        "id": "7IjaWegZTRrW"
      },
      "outputs": [],
      "source": [
        "class Teacher: # by convention the first letter of a class is usually capitalised\n",
        "    def __init__(self, name, age):\n",
        "        self.name = name\n",
        "        self.age = age\n",
        "\n",
        "    def __str__(self):\n",
        "        return f\"{self.name} is an object of the class 'Teacher' and is {self.age} years old\"\n",
        "\n",
        "    def greet_class(self):\n",
        "        return f\"Hello class. My name is {self.name} and I am {self.age} years old\"\n",
        "\n",
        "    def salary(self, wage):\n",
        "        return f\"{self.name} earns: {wage}\"\n",
        "\n",
        "class External(Teacher):\n",
        "    def salary(salary, wage=\"variable\"):\n",
        "         return super().salary(wage)\n",
        "\n",
        "class Professor(Teacher):\n",
        "    def salary(salary, wage=\"£1,000,000\"):\n",
        "         return super().salary(wage)\n",
        "\n",
        "class AssocProfessor(Teacher):\n",
        "    def salary(salary, wage=\"£1,000\"):\n",
        "         return super().salary(wage)"
      ],
      "id": "7IjaWegZTRrW"
    },
    {
      "cell_type": "markdown",
      "metadata": {
        "id": "fUiJYpvMTRrW"
      },
      "source": [
        "Now we have three classes: the parent __Teacher__ class and __External__ and __Professor__ as child classes. This is denoted by the fact that we have passed the name of the parent class in brackets after the class name. Essentially this means that the child classes inherit the properties and methods of the parent class. We can prove this as follows:"
      ],
      "id": "fUiJYpvMTRrW"
    },
    {
      "cell_type": "code",
      "execution_count": null,
      "metadata": {
        "id": "TFoWDib4TRrW"
      },
      "outputs": [],
      "source": [
        "teacher1 = Professor(\"Mark\", 72)\n",
        "print(teacher1)"
      ],
      "id": "TFoWDib4TRrW"
    },
    {
      "cell_type": "markdown",
      "metadata": {
        "id": "UrWUjfWITRrW"
      },
      "source": [
        "We did not specify a \"\\_\\_str\\_\\_\" method for __External__ and yet it still uses the method associated with its parent class.\n",
        "\n",
        "However, we have now functionality associated with the child class that uses the parent class' _salary_ method to set a wage for each role. The _super( )_ command tells the child class that this is a method belonging to the parent and that we are passing our \"wage\" variable to it. In OOP this is known as the principle of _inheritance_ (i.e. the child class has inherited the methods of the parent class).\n",
        "\n",
        "We can see check this if we experiment with a few objects:"
      ],
      "id": "UrWUjfWITRrW"
    },
    {
      "cell_type": "code",
      "execution_count": null,
      "metadata": {
        "id": "an3JICfVTRrW"
      },
      "outputs": [],
      "source": [
        "teacher1 = Teacher(\"TBC\", \"Unknown\")\n",
        "teacher2 = Professor(\"Mark\", 72)\n",
        "teacher3 = External(\"ANother\", \"Unknown\")\n",
        "teacher4 = AssocProfessor(\"Michael\", 40)\n",
        "\n",
        "print(teacher2.salary())\n",
        "print(teacher3.salary())\n",
        "print(teacher4.salary())\n",
        "print(teacher1.salary())"
      ],
      "id": "an3JICfVTRrW"
    },
    {
      "cell_type": "markdown",
      "metadata": {
        "id": "-UmjAXMnTRrW"
      },
      "source": [
        "Here each of the objects built using one of the child classes (teacher2, teacher3 and teacher4) has an inbuilt method to populate the \"wage\" variable required in the _salary_ method of the parent class, but an object of the parent class (teacher1) does not. Hence, when we try to print _teacher1.salary()_ it complains it is missing the wage variable.\n",
        "\n",
        "_Note, we have deliberately kept this hiearchy (parent -> child classes) simple but in practice things can become very complicated with multiple levels (children of children)._"
      ],
      "id": "-UmjAXMnTRrW"
    },
    {
      "cell_type": "markdown",
      "metadata": {
        "id": "iYLd5Vv9TRrW"
      },
      "source": [
        "Finally, we can modify and delete properties associated with given objects:"
      ],
      "id": "iYLd5Vv9TRrW"
    },
    {
      "cell_type": "code",
      "execution_count": null,
      "metadata": {
        "id": "XAkG_E_FTRrW"
      },
      "outputs": [],
      "source": [
        "teacher2.age = 73\n",
        "teacher2.age"
      ],
      "id": "XAkG_E_FTRrW"
    },
    {
      "cell_type": "code",
      "execution_count": null,
      "metadata": {
        "id": "w9BwFixkTRrW"
      },
      "outputs": [],
      "source": [
        "del teacher3.age\n",
        "teacher3.age"
      ],
      "id": "w9BwFixkTRrW"
    },
    {
      "cell_type": "markdown",
      "metadata": {
        "id": "jYjGujyFTRrW"
      },
      "source": [
        "These examples give a basic introduction to the idea of classes in Python and to object-orientated programming (OOP). They offer a good solution for generating objects (people, modules, products, game characters, etc.) in software that can share properties and methods. OOP is easily the most common programming paradigm in use today (although perhaps not quite as unequivically as it was in the past). However, it is very easy for classes and inheritance to get completely out of control and confusing to everyone involved, and the real art is to ensure careful planning and design of the class hiearachy. As with all programming it is a powerful tool ... but must be used correctly and in a thoughtful fashion."
      ],
      "id": "jYjGujyFTRrW"
    },
    {
      "cell_type": "code",
      "execution_count": null,
      "metadata": {
        "id": "YKeGNoiETRrW"
      },
      "outputs": [],
      "source": [],
      "id": "YKeGNoiETRrW"
    }
  ],
  "metadata": {
    "kernelspec": {
      "display_name": "Python 3",
      "language": "python",
      "name": "python3"
    },
    "language_info": {
      "codemirror_mode": {
        "name": "ipython",
        "version": 3
      },
      "file_extension": ".py",
      "mimetype": "text/x-python",
      "name": "python",
      "nbconvert_exporter": "python",
      "pygments_lexer": "ipython3",
      "version": "3.8.3"
    },
    "colab": {
      "provenance": [],
      "include_colab_link": true
    }
  },
  "nbformat": 4,
  "nbformat_minor": 5
}