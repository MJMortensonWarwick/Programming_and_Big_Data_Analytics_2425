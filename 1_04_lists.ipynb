{
  "cells": [
    {
      "cell_type": "markdown",
      "metadata": {
        "id": "view-in-github",
        "colab_type": "text"
      },
      "source": [
        "<a href=\"https://colab.research.google.com/github/MJMortensonWarwick/Programming_and_Big_Data_Analytics_2425/blob/main/1_04_lists.ipynb\" target=\"_parent\"><img src=\"https://colab.research.google.com/assets/colab-badge.svg\" alt=\"Open In Colab\"/></a>"
      ]
    },
    {
      "cell_type": "markdown",
      "id": "8382ce1c",
      "metadata": {
        "id": "8382ce1c"
      },
      "source": [
        "![](https://drive.google.com/uc?export=view&id=1vv_PsWBnUJwSCkwKDoJAC-vXjtaEA4Ts)"
      ]
    },
    {
      "cell_type": "markdown",
      "id": "a5d9ee44",
      "metadata": {
        "id": "a5d9ee44"
      },
      "source": [
        "# 1.04 Lists"
      ]
    },
    {
      "cell_type": "markdown",
      "id": "18c75f49",
      "metadata": {
        "id": "18c75f49"
      },
      "source": [
        "A Python list is an unordered (unsorted) collection of data, where the values are changeable and can be repeated. In other words, this is a flexible store of data which contain a range of values, each of which can be removed or modified.\n",
        "\n",
        "## Creating a List\n",
        "\n",
        "A list is created in Python by using square brackets, \\[\\], to wrap the values, each of which is separated by a comma. It is also worth noting that a list does not need to have any elements and can in fact be empty."
      ]
    },
    {
      "cell_type": "code",
      "execution_count": null,
      "id": "f872f134",
      "metadata": {
        "id": "f872f134"
      },
      "outputs": [],
      "source": [
        "first_list = [1, \"a\", 2.1, False]"
      ]
    },
    {
      "cell_type": "markdown",
      "id": "ac7f69bf",
      "metadata": {
        "id": "ac7f69bf"
      },
      "source": [
        "We can include any type of data inside a list (the above includes, in the order written, an integer, a string, a float and a Boolean).\n",
        "\n",
        "A list can also include a list."
      ]
    },
    {
      "cell_type": "code",
      "execution_count": null,
      "id": "a8616eff",
      "metadata": {
        "id": "a8616eff"
      },
      "outputs": [],
      "source": [
        "second_list = [first_list, \"not a list\"]"
      ]
    },
    {
      "cell_type": "markdown",
      "id": "194c8116",
      "metadata": {
        "id": "194c8116"
      },
      "source": [
        "## Indexing"
      ]
    },
    {
      "cell_type": "markdown",
      "id": "12075de7",
      "metadata": {
        "id": "12075de7"
      },
      "source": [
        "Items in a list can be called by its index number – a process called indexing. It is worth noting that Python, like many programming languages is a zero-index language, meaning it begins counting from zero not from one."
      ]
    },
    {
      "cell_type": "markdown",
      "id": "152ce662",
      "metadata": {
        "id": "152ce662"
      },
      "source": [
        "### Accessing List Elements\n",
        "\n",
        "To access an element in the list, we first need to know its index. We can then access the element with the variable name of the list followed by the index enclosed in a pair of square brackets."
      ]
    },
    {
      "cell_type": "code",
      "execution_count": null,
      "id": "8c83a8df",
      "metadata": {
        "id": "8c83a8df"
      },
      "outputs": [],
      "source": [
        "first_list[0]"
      ]
    },
    {
      "cell_type": "code",
      "execution_count": null,
      "id": "a4f70244",
      "metadata": {
        "id": "a4f70244"
      },
      "outputs": [],
      "source": [
        "first_list[3]"
      ]
    },
    {
      "cell_type": "markdown",
      "id": "1a62b392",
      "metadata": {
        "id": "1a62b392"
      },
      "source": [
        "#### Accessing an Index of a List Inside of a List\n",
        "\n",
        "There are situations where we want to index an item inside a list. In this case we index the first item in a set of square brackets followed by an item number or slice in a further pair of square brackets."
      ]
    },
    {
      "cell_type": "code",
      "execution_count": null,
      "id": "9ac5c244",
      "metadata": {
        "id": "9ac5c244"
      },
      "outputs": [],
      "source": [
        "second_list[0][2]"
      ]
    },
    {
      "cell_type": "markdown",
      "id": "7ed2c3f7",
      "metadata": {
        "id": "7ed2c3f7"
      },
      "source": [
        "This might be a little confusing, but above we mentioned we can put a list inside of a list, and we put our first_list as the first element in our second_list, another way to visualise it would be like so:"
      ]
    },
    {
      "cell_type": "code",
      "execution_count": null,
      "id": "abae5e16",
      "metadata": {
        "id": "abae5e16"
      },
      "outputs": [],
      "source": [
        "[[1, \"a\", 2.1, False], \"not a list\"]"
      ]
    },
    {
      "cell_type": "markdown",
      "id": "9aa8e718",
      "metadata": {
        "id": "9aa8e718"
      },
      "source": [
        "### Slicing a Python List\n",
        "\n",
        "If we want more than one item, we can use a slice. Slicing uses the same notation as indexing, apart from we list a range between the square brackets. The range will start at the first number we want to include (remember, Python lists start at zero!) through to the item we want to stop at. This last number will not be included in the list.\n",
        "\n",
        "We saw briefly the ability to slice strings at the end of the previous notebook, in Python slicing a string works in the same was as slicing a list, when slicing just think of a string as a list of individual characters."
      ]
    },
    {
      "cell_type": "code",
      "execution_count": null,
      "id": "e11609ad",
      "metadata": {
        "id": "e11609ad"
      },
      "outputs": [],
      "source": [
        "first_list[1:3]"
      ]
    },
    {
      "cell_type": "markdown",
      "id": "6472208a",
      "metadata": {
        "id": "6472208a"
      },
      "source": [
        "The slice above is asking Python to start with the second item (as our count starts at zero) and to include every item up until (but not including) the fourth item.\n",
        "\n",
        "You may notice that we have four elements in our list meaning the last element is at index three. When slicing the second parameter stops at but does not include that item. We can include this final one by increasing the stop position even if it refers to an index position that has no element. Even if we increased the stop index significantly, it will not cause any issues."
      ]
    },
    {
      "cell_type": "code",
      "execution_count": null,
      "id": "9f945b5f",
      "metadata": {
        "id": "9f945b5f"
      },
      "outputs": [],
      "source": [
        "first_list[1:4]"
      ]
    },
    {
      "cell_type": "code",
      "execution_count": null,
      "id": "349d639d",
      "metadata": {
        "id": "349d639d"
      },
      "outputs": [],
      "source": [
        "first_list[1:100]"
      ]
    },
    {
      "cell_type": "markdown",
      "id": "12bdf28e",
      "metadata": {
        "id": "12bdf28e"
      },
      "source": [
        "But if we try to access an index that is out of the index range of the list we will get an IndexError."
      ]
    },
    {
      "cell_type": "code",
      "execution_count": null,
      "id": "9bada5ac",
      "metadata": {
        "id": "9bada5ac"
      },
      "outputs": [],
      "source": [
        "first_list[4]"
      ]
    },
    {
      "cell_type": "markdown",
      "id": "90c82dd5",
      "metadata": {
        "id": "90c82dd5"
      },
      "source": [
        "### Slicing Using Negative Indices\n",
        "\n",
        "We can also index from the end of a list, by using a negative index starting from -1 (index -1 being the equivalent of index 4 for first_list)."
      ]
    },
    {
      "cell_type": "code",
      "execution_count": null,
      "id": "bfcb31dd",
      "metadata": {
        "id": "bfcb31dd"
      },
      "outputs": [],
      "source": [
        "first_list[-1]"
      ]
    },
    {
      "cell_type": "code",
      "execution_count": null,
      "id": "07309fc4",
      "metadata": {
        "id": "07309fc4"
      },
      "outputs": [],
      "source": [
        "first_list[1:-1]"
      ]
    },
    {
      "cell_type": "markdown",
      "id": "a5846a4f",
      "metadata": {
        "id": "a5846a4f"
      },
      "source": [
        "### Open Ended Slices\n",
        "\n",
        "You may of noticed in the final few examples in the previous notebook of string slices that we ommited either our starting point of an ending point simply by leaving that value blank. By leaving the starting index blank you are telling Python to start from the beginning of the list, and leaving the stop index blank, you are telling Python to stop at the final index (including the final element)."
      ]
    },
    {
      "cell_type": "code",
      "execution_count": null,
      "id": "956d6e62",
      "metadata": {
        "id": "956d6e62"
      },
      "outputs": [],
      "source": [
        "first_list[:2]"
      ]
    },
    {
      "cell_type": "code",
      "execution_count": null,
      "id": "6a5b98aa",
      "metadata": {
        "id": "6a5b98aa"
      },
      "outputs": [],
      "source": [
        "first_list[1:]"
      ]
    },
    {
      "cell_type": "code",
      "execution_count": null,
      "id": "0d81123f",
      "metadata": {
        "id": "0d81123f"
      },
      "outputs": [],
      "source": [
        "first_list[:]"
      ]
    },
    {
      "cell_type": "markdown",
      "id": "a8ab7cd1",
      "metadata": {
        "id": "a8ab7cd1"
      },
      "source": [
        "### String Slicing Cont.\n",
        "\n",
        "If we imagine a string as a list of individual characters, the code at the end of the previous notebook should make sense to you now."
      ]
    },
    {
      "cell_type": "code",
      "execution_count": null,
      "id": "0c68ce76",
      "metadata": {
        "id": "0c68ce76"
      },
      "outputs": [],
      "source": [
        "my_string = \"Hello World!\"\n",
        "my_list = ['H', 'e', 'l', 'l', 'o', ' ', 'W', 'o', 'r', 'l', 'd', '!']"
      ]
    },
    {
      "cell_type": "code",
      "execution_count": null,
      "id": "9b1a3d47",
      "metadata": {
        "id": "9b1a3d47"
      },
      "outputs": [],
      "source": [
        "print(my_string[1])\n",
        "print(my_list[1])"
      ]
    },
    {
      "cell_type": "code",
      "execution_count": null,
      "id": "3a58f95d",
      "metadata": {
        "id": "3a58f95d"
      },
      "outputs": [],
      "source": [
        "print(my_string[:8])\n",
        "print(my_list[:8])"
      ]
    },
    {
      "cell_type": "markdown",
      "id": "3b416929",
      "metadata": {
        "id": "3b416929"
      },
      "source": [
        "### Step\n",
        "\n",
        "In the last notebook, we demonstrated the ability to slice every other index in a string, this is done using the optional step parameter.\n",
        "\n",
        "```python\n",
        "# Slicing syntax\n",
        "[start:stop:step]\n",
        "```"
      ]
    },
    {
      "cell_type": "code",
      "execution_count": null,
      "id": "8fba6d91",
      "metadata": {
        "id": "8fba6d91"
      },
      "outputs": [],
      "source": [
        "my_list[::2]"
      ]
    },
    {
      "cell_type": "code",
      "execution_count": null,
      "id": "b3937448",
      "metadata": {
        "id": "b3937448"
      },
      "outputs": [],
      "source": [
        "my_list[2::5]"
      ]
    },
    {
      "cell_type": "markdown",
      "id": "9235f096",
      "metadata": {
        "id": "9235f096"
      },
      "source": [
        "In the first example above we see slicing every other element in the list from beginning to end, in the second example we see slicing every fifth element starting from index position two.\n",
        "\n",
        "A neat trick to be aware of is being able to slice backwards using a negative step."
      ]
    },
    {
      "cell_type": "code",
      "execution_count": null,
      "id": "82c1efba",
      "metadata": {
        "id": "82c1efba"
      },
      "outputs": [],
      "source": [
        "my_list[::-1]"
      ]
    },
    {
      "cell_type": "code",
      "execution_count": null,
      "id": "ca66625c",
      "metadata": {
        "id": "ca66625c"
      },
      "outputs": [],
      "source": [
        "my_list[::-2]"
      ]
    },
    {
      "cell_type": "markdown",
      "id": "5719cb8a",
      "metadata": {
        "id": "5719cb8a"
      },
      "source": [
        "## Changing a Value in a List\n",
        "\n",
        "If we recall from the start of this section, lists are changeable in Python, as are the items within it. For example, we can index an item in a list, and simply replace it with a new one."
      ]
    },
    {
      "cell_type": "code",
      "execution_count": null,
      "id": "862a3f47",
      "metadata": {
        "id": "862a3f47"
      },
      "outputs": [],
      "source": [
        "first_list"
      ]
    },
    {
      "cell_type": "code",
      "execution_count": null,
      "id": "5e67219e",
      "metadata": {
        "id": "5e67219e"
      },
      "outputs": [],
      "source": [
        "first_list[3] = True"
      ]
    },
    {
      "cell_type": "code",
      "execution_count": null,
      "id": "509ac06f",
      "metadata": {
        "id": "509ac06f"
      },
      "outputs": [],
      "source": [
        "first_list"
      ]
    },
    {
      "cell_type": "markdown",
      "id": "b254ef15",
      "metadata": {
        "id": "b254ef15"
      },
      "source": [
        "Here we are telling Python to take the 4th item of the list and change it from False to True. When changing a element in a list, it does not need to be changed to the same data type, we can easily change an element to a string, integer or even another list etc."
      ]
    },
    {
      "cell_type": "markdown",
      "id": "57e7aeac",
      "metadata": {
        "id": "57e7aeac"
      },
      "source": [
        "## Python List Methods"
      ]
    },
    {
      "cell_type": "markdown",
      "id": "7b95c3e8",
      "metadata": {
        "id": "7b95c3e8"
      },
      "source": [
        "### Appending an Item to a List\n",
        "\n",
        "We can also add items to our list. The function __list.append( )__ – where list is the name of our list – will add another item to the **end** of the list."
      ]
    },
    {
      "cell_type": "code",
      "execution_count": null,
      "id": "a91c8668",
      "metadata": {
        "id": "a91c8668"
      },
      "outputs": [],
      "source": [
        "method_example_list = []"
      ]
    },
    {
      "cell_type": "code",
      "execution_count": null,
      "id": "96450344",
      "metadata": {
        "id": "96450344"
      },
      "outputs": [],
      "source": [
        "method_example_list.append(\"Michael\")\n",
        "method_example_list.append(\"Mark\")\n",
        "method_example_list.append(\"Katy\")\n",
        "method_example_list"
      ]
    },
    {
      "cell_type": "markdown",
      "id": "5c9caf64",
      "metadata": {
        "id": "5c9caf64"
      },
      "source": [
        "### Inserting an Item into a Specific Position in a List\n",
        "\n",
        "While append is useful when we don’t care about order, in some cases we will want to insert our new item into a specific place in the list. Here we use the __list.insert( )__ function. This function takes two inputs: firstly the position we want to insert to, and secondly the item we want to insert."
      ]
    },
    {
      "cell_type": "code",
      "execution_count": null,
      "id": "4ffb5dfb",
      "metadata": {
        "id": "4ffb5dfb"
      },
      "outputs": [],
      "source": [
        "method_example_list.insert(0, \"Wenjuan\")\n",
        "method_example_list"
      ]
    },
    {
      "cell_type": "markdown",
      "id": "831ac92e",
      "metadata": {
        "id": "831ac92e"
      },
      "source": [
        "### Removing the Last Item from a List\n",
        "\n",
        "We can also uses functions to remove items. As the opposite of append, the function __list.pop( )__ will remove the last item of the list."
      ]
    },
    {
      "cell_type": "code",
      "execution_count": null,
      "id": "79facfd1",
      "metadata": {
        "id": "79facfd1"
      },
      "outputs": [],
      "source": [
        "method_example_list.pop()\n",
        "method_example_list"
      ]
    },
    {
      "cell_type": "markdown",
      "id": "cea08963",
      "metadata": {
        "id": "cea08963"
      },
      "source": [
        "Pop also has an optional parameter where you can remove a specific item by its location."
      ]
    },
    {
      "cell_type": "code",
      "execution_count": null,
      "id": "9e2e1fb5",
      "metadata": {
        "id": "9e2e1fb5"
      },
      "outputs": [],
      "source": [
        "method_example_list.pop(2)\n",
        "method_example_list"
      ]
    },
    {
      "cell_type": "markdown",
      "id": "31646c6a",
      "metadata": {
        "id": "31646c6a"
      },
      "source": [
        "### Removing an Item From a List By Value\n",
        "\n",
        "Finally, we may want to remove an item by its value rather than its positon. This can be very helpful when we are dealing with very long lists! Instead of __pop( )__, here we use __list.remove( )__ where the value we want to remove is listed between the brackets."
      ]
    },
    {
      "cell_type": "code",
      "execution_count": null,
      "id": "e5b582c9",
      "metadata": {
        "id": "e5b582c9"
      },
      "outputs": [],
      "source": [
        "method_example_list.remove(\"Michael\")\n",
        "method_example_list"
      ]
    },
    {
      "cell_type": "markdown",
      "id": "8bad3cc7",
      "metadata": {
        "id": "8bad3cc7"
      },
      "source": [
        "If we recall from the start of this section, Python lists allow for duplicated values. It's important to know that the __remove( )__ function will delete only the **first** instance of the value in the list."
      ]
    },
    {
      "cell_type": "code",
      "execution_count": null,
      "id": "9f519efc",
      "metadata": {
        "id": "9f519efc"
      },
      "outputs": [],
      "source": [
        "third_list = [1, 5, 1, 4, 2, 1, 3]\n",
        "third_list"
      ]
    },
    {
      "cell_type": "code",
      "execution_count": null,
      "id": "043e2f5f",
      "metadata": {
        "id": "043e2f5f"
      },
      "outputs": [],
      "source": [
        "third_list.remove(1)\n",
        "third_list"
      ]
    },
    {
      "cell_type": "markdown",
      "id": "e001e637",
      "metadata": {
        "id": "e001e637"
      },
      "source": [
        "There are several other functions that can be used on lists you can see a full list of them [here](https://docs.python.org/3/tutorial/datastructures.html#more-on-lists). We will cover just two more here, as they are the ones that are most useful in this space.\n",
        "\n",
        "### Sorting a Python List\n",
        "\n",
        "The first is the sort function. If we recall the start of this section, Python lists are unordered by default. The ordering of the values is based on where they were added not on their values. Often it is useful to be able to index based on value not just on an arbitrary position in the list."
      ]
    },
    {
      "cell_type": "code",
      "execution_count": null,
      "id": "1e950d35",
      "metadata": {
        "id": "1e950d35"
      },
      "outputs": [],
      "source": [
        "test_scores = [72, 54, 62, 66, 71]\n",
        "test_scores"
      ]
    },
    {
      "cell_type": "code",
      "execution_count": null,
      "id": "c809b98a",
      "metadata": {
        "id": "c809b98a"
      },
      "outputs": [],
      "source": [
        "test_scores.sort()\n",
        "test_scores"
      ]
    },
    {
      "cell_type": "markdown",
      "id": "ef4cf294",
      "metadata": {
        "id": "ef4cf294"
      },
      "source": [
        "By default __sort( )__ automatically sorts a list in ascending order (12345... or abcde...). This is because ascending is the default value.\n",
        "\n",
        "__sort( )__ comes with an optional parameter for sort order and if you wanted to sort in descending order you would need to set the optional reverse parameter to __True__. (Note that __True__ is capital “T” and no quotation marks, meaning that this is a Boolean.)"
      ]
    },
    {
      "cell_type": "code",
      "execution_count": null,
      "id": "a034060f",
      "metadata": {
        "id": "a034060f"
      },
      "outputs": [],
      "source": [
        "test_scores.sort(reverse=True)\n",
        "test_scores"
      ]
    },
    {
      "cell_type": "markdown",
      "id": "5d293eaa",
      "metadata": {
        "id": "5d293eaa"
      },
      "source": [
        "###  Counting the Occurrences of a Value in a List\n",
        "\n",
        "Finally for this section, we’ll discuss the count( ) function. As the name suggests, this function will\n",
        "count the occurrences of a value in a list."
      ]
    },
    {
      "cell_type": "code",
      "execution_count": null,
      "id": "6918a92f",
      "metadata": {
        "id": "6918a92f"
      },
      "outputs": [],
      "source": [
        "fourth_list = [\"Apple\", \"Orange\", \"Apple\", \"Pear\", \"Apricot\", \"Apple\", \"Peach\", \"Apple\",]\n",
        "fourth_list.count(\"Apple\")"
      ]
    },
    {
      "cell_type": "markdown",
      "id": "7922f565",
      "metadata": {
        "id": "7922f565"
      },
      "source": [
        "The __count( )__ method becomes much more useful when dealing with very long lists."
      ]
    }
  ],
  "metadata": {
    "kernelspec": {
      "display_name": "Python 3 (ipykernel)",
      "language": "python",
      "name": "python3"
    },
    "language_info": {
      "codemirror_mode": {
        "name": "ipython",
        "version": 3
      },
      "file_extension": ".py",
      "mimetype": "text/x-python",
      "name": "python",
      "nbconvert_exporter": "python",
      "pygments_lexer": "ipython3",
      "version": "3.8.8"
    },
    "colab": {
      "provenance": [],
      "include_colab_link": true
    }
  },
  "nbformat": 4,
  "nbformat_minor": 5
}