{
  "nbformat": 4,
  "nbformat_minor": 0,
  "metadata": {
    "colab": {
      "provenance": [],
      "authorship_tag": "ABX9TyPehaU/ikyBHBFNjKjgoIFj",
      "include_colab_link": true
    },
    "kernelspec": {
      "name": "python3",
      "display_name": "Python 3"
    },
    "language_info": {
      "name": "python"
    }
  },
  "cells": [
    {
      "cell_type": "markdown",
      "metadata": {
        "id": "view-in-github",
        "colab_type": "text"
      },
      "source": [
        "<a href=\"https://colab.research.google.com/github/MJMortensonWarwick/Programming_and_Big_Data_Analytics_2425/blob/main/2_01_Introduction_to_Pandas.ipynb\" target=\"_parent\"><img src=\"https://colab.research.google.com/assets/colab-badge.svg\" alt=\"Open In Colab\"/></a>"
      ]
    },
    {
      "cell_type": "markdown",
      "source": [
        "![](https://drive.google.com/uc?export=view&id=1vv_PsWBnUJwSCkwKDoJAC-vXjtaEA4Ts)"
      ],
      "metadata": {
        "id": "z3DbenxCnhUo"
      }
    },
    {
      "cell_type": "markdown",
      "source": [
        "# Introduction to Pandas\n",
        "\n",
        "### What is Pandas?\n",
        "As Python has grown to become a popular solution for data analysis, many new tools have been introduced to support such tasks. Pandas is arguably the most popular and widely used of these, although it does have some limitations (if working with very large datasets you may want to look at Dask and/or PySpark).\n",
        "\n",
        "First, we will import it into our session. We will also import numpy - another widely used Python package for working with numerical data (the name is a portmanteau of \"numerical\" and \"python\"). By convention we import pandas as \"pd\" and numpy as \"np\". This is equivalent to giving it a variable name."
      ],
      "metadata": {
        "id": "ut4lS-AA1Z54"
      }
    },
    {
      "cell_type": "code",
      "execution_count": null,
      "metadata": {
        "id": "BcRkRi_-1VSW"
      },
      "outputs": [],
      "source": [
        "import pandas as pd\n",
        "import numpy as np"
      ]
    },
    {
      "cell_type": "markdown",
      "source": [
        "### Testing our installation\n",
        "To test everything is working we will create some fake data frame using numpy and load it into a pandas dataframe (more on these below). First we will create the random numbers:"
      ],
      "metadata": {
        "id": "2mtKjCXR1_aA"
      }
    },
    {
      "cell_type": "code",
      "source": [
        "x = np.random.rand(10,1)\n",
        "x"
      ],
      "metadata": {
        "id": "u2y2aDzR2Gyy"
      },
      "execution_count": null,
      "outputs": []
    },
    {
      "cell_type": "markdown",
      "source": [
        "The commands here have told numpy to create a set of random numbers between zero and one. The arguments we have passed, \"1\" and \"10\", tells numpy we want a 10x1 array of numbers (i.e. a vector).\n",
        "\n",
        "Next we will create a pandas dataframe using \"x\":"
      ],
      "metadata": {
        "id": "rFdC3a1m2K_6"
      }
    },
    {
      "cell_type": "code",
      "source": [
        "testdf = pd.DataFrame(x)\n",
        "testdf"
      ],
      "metadata": {
        "id": "8q5z8NYZ2P-f"
      },
      "execution_count": null,
      "outputs": []
    },
    {
      "cell_type": "markdown",
      "source": [
        "We have now successfully created a pandas dataframe!"
      ],
      "metadata": {
        "id": "YxQaodH72S4O"
      }
    },
    {
      "cell_type": "markdown",
      "source": [
        "### What are Dataframes?\n",
        "Pandas has a very elegant way of managing data, very much borrowed from the statistical language R, mostly based around dataframes. You can think of dataframes a bit like an Excel table with rows, columns and common operations like sum, average and so on. We can use this on top of our previous work on lists and dictionaries (etc.) more usable and malleable.\n",
        "\n",
        "To begin with we will create a dataset - in this case a dictionary.\n",
        "\n"
      ],
      "metadata": {
        "id": "LsVLtmhH2WA1"
      }
    },
    {
      "cell_type": "code",
      "source": [
        "orders = {'o10001':{'date':'2025/01/10', 'product':'Blockchain database', 'quantity':'1'},\n",
        "            'o10002':{'date':'2025/01/13', 'product':'Stock market prediction engine', 'quantity':'2'},\n",
        "            'o10003':{'date':'2025/01/14', 'product':'Portfolio optimisation tool', 'quantity':'10'},\n",
        "            'o10004':{'date':'2025/01/15', 'product':'Man\\'s suit', 'quantity':'2'}\n",
        "}\n",
        "orders"
      ],
      "metadata": {
        "id": "BoZmysQo2p4Y"
      },
      "execution_count": null,
      "outputs": []
    },
    {
      "cell_type": "markdown",
      "source": [
        "We can convert this to a Dataframe with great ease"
      ],
      "metadata": {
        "id": "W-szoAC42tIv"
      }
    },
    {
      "cell_type": "code",
      "source": [
        "import pandas as pd\n",
        "import numpy as np\n",
        "\n",
        "orders_df = pd.DataFrame(orders)\n",
        "orders_df"
      ],
      "metadata": {
        "id": "7t8ATqP62xAl"
      },
      "execution_count": null,
      "outputs": []
    },
    {
      "cell_type": "markdown",
      "source": [
        "We can even create such outputs from more complex dictionaries, such as a dictionary which includes a nested list:"
      ],
      "metadata": {
        "id": "eeuSiBtn254W"
      }
    },
    {
      "cell_type": "code",
      "source": [
        "customers = {'Siamak':{'name':'Siamak Naderi', 'open_orders':3, 'orders':['o10001', 'o10002', 'o10004']},\n",
        "             'Ram':{'name':'Ram Gopal', 'open_orders':0, 'orders':[]},\n",
        "             'Moris':{'name':'Moris Strub', 'open_orders':1, 'orders':['o10003']},\n",
        "             'Ephie':{'name':'Ephie Wang', 'open_orders':0, 'orders':[]}\n",
        "}\n",
        "customers"
      ],
      "metadata": {
        "id": "1k6GiP0N29XR"
      },
      "execution_count": null,
      "outputs": []
    },
    {
      "cell_type": "code",
      "source": [
        "customers_df = pd.DataFrame(customers)\n",
        "customers_df"
      ],
      "metadata": {
        "id": "xcatviQm3DJM"
      },
      "execution_count": null,
      "outputs": []
    },
    {
      "cell_type": "markdown",
      "source": [
        "Pandas dataframes can also be built from various other data structures and sources (including Excel files, CSVs, text files, databases and many more). To conclude the session we will look at a list example:"
      ],
      "metadata": {
        "id": "AebSOaD_3FJN"
      }
    },
    {
      "cell_type": "code",
      "source": [
        "a = [1, 2, 3, 4]\n",
        "b = [\"a\", \"b\", \"c\", \"d\"]\n",
        "c = [True, False, True, False]\n",
        "\n",
        "listdf = pd.DataFrame([a, b, c])\n",
        "listdf"
      ],
      "metadata": {
        "id": "ieLiBLDJ3H83"
      },
      "execution_count": null,
      "outputs": []
    },
    {
      "cell_type": "markdown",
      "source": [
        "### EXERCISE\n",
        "Try building you own dataframes from a list and/or dictionary you create. What would happen if you have an item missing from one element. E.g. if \"c\" in the above example only had three items - True, False, True - rather than four. Test it - does the output match your expectation?"
      ],
      "metadata": {
        "id": "khSIUBMt3LAA"
      }
    }
  ]
}