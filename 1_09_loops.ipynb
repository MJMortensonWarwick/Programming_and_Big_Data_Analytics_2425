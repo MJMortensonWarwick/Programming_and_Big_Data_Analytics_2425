{
  "cells": [
    {
      "cell_type": "markdown",
      "metadata": {
        "id": "view-in-github",
        "colab_type": "text"
      },
      "source": [
        "<a href=\"https://colab.research.google.com/github/MJMortensonWarwick/Programming_and_Big_Data_Analytics_2425/blob/main/1_09_loops.ipynb\" target=\"_parent\"><img src=\"https://colab.research.google.com/assets/colab-badge.svg\" alt=\"Open In Colab\"/></a>"
      ]
    },
    {
      "cell_type": "markdown",
      "id": "a91791a0",
      "metadata": {
        "id": "a91791a0"
      },
      "source": [
        "![](https://drive.google.com/uc?export=view&id=1vv_PsWBnUJwSCkwKDoJAC-vXjtaEA4Ts)"
      ]
    },
    {
      "cell_type": "markdown",
      "id": "03d26966",
      "metadata": {
        "id": "03d26966"
      },
      "source": [
        "# 1.09 Loops\n",
        "\n",
        "One of the greatest things about computers is their ability to perform repetitive tasks. One way a program can repeat tasks is through looping. There are two types of loops in Python, but both essentially do the same thing and run blocks of code multiple times. This notebook will cover both types, starting with the while loop, followed by the for loop."
      ]
    },
    {
      "cell_type": "markdown",
      "id": "8dad64ea",
      "metadata": {
        "id": "8dad64ea"
      },
      "source": [
        "## While Loops\n",
        "\n",
        "Continuing on from the last couple of notebooks, which focused heavily on boolean values, we have the while loop. A while loop is a type of loop that runs while a condition is True. We can use while loops in many situations, but they see prominent use when coding video games.\n",
        "\n",
        "For example, while the player’s lives are greater than zero, the game continues to run. The moment that the player loses their last life, the condition is no longer True, and the loop ends and its game over."
      ]
    },
    {
      "cell_type": "code",
      "execution_count": null,
      "id": "d03ab0e8",
      "metadata": {
        "id": "d03ab0e8"
      },
      "outputs": [],
      "source": [
        "count = 5\n",
        "\n",
        "while count > 0:\n",
        "    print(count)\n",
        "    count -= 1"
      ]
    },
    {
      "cell_type": "markdown",
      "id": "791f985a",
      "metadata": {
        "id": "791f985a"
      },
      "source": [
        "Let us go over the above code and break it down. First, we have a variable called count that is assigned an integer value of 5. We then create our while loop, with a condition that count is greater than zero. Five is greater than zero, so our conditional statement results in a boolean value of True. On a new line, we indent the code we wish to run repeatedly, which is to print the count. Finally, on the last line we are reducing the count by one. ```count -= 1``` is just a shorthand way of writing ```count = count - 1```.\n",
        "\n",
        "This last line is especially important, because without it, the count would remain at five, resulting in our conditional statement remaining True indefinitely. When a while loop’s condition is permanently True, the code will repeatedly execute forever. We call this an infinite loop. It’s important that you try to avoid infinite loops as, if uninterrupted, your system still eventually crash. When stuck in an infinite loop, you can just interrupt it by pressing the stop button in your Jupyter Notebook."
      ]
    },
    {
      "cell_type": "code",
      "execution_count": null,
      "id": "c2646236",
      "metadata": {
        "id": "c2646236"
      },
      "outputs": [],
      "source": [
        "print(\"5\")\n",
        "print(\"4\")\n",
        "print(\"3\")\n",
        "print(\"2\")\n",
        "print(\"1\")"
      ]
    },
    {
      "cell_type": "markdown",
      "id": "132c632d",
      "metadata": {
        "id": "132c632d"
      },
      "source": [
        "Above we can see how we would have had to code our countdown timer before we learned about loops. You may think that there is not much of a difference, with both being about five lines of code. But, imagine instead of counting down from five, we wanted to countdown from fifty or even five-hundred. We can achieve that with a while loop by adding either one or two zeros to the count, whereas printing them individually would be extremely time intensive and inefficient."
      ]
    },
    {
      "cell_type": "code",
      "execution_count": null,
      "id": "79074386",
      "metadata": {
        "id": "79074386"
      },
      "outputs": [],
      "source": [
        "count = 50\n",
        "\n",
        "while count > 0:\n",
        "    print(count)\n",
        "    count -= 1"
      ]
    },
    {
      "cell_type": "markdown",
      "id": "3d6561ef",
      "metadata": {
        "id": "3d6561ef"
      },
      "source": [
        "### While Loop List Iteration\n",
        "\n",
        "Usually when iterating over a sequence, e.g a list, we use another type of loop called a for loop, but it is possible to use a while loop. An important thing to be aware of is that if a sequence is not empty (i.e. it contains at least one item) it evaluates to True."
      ]
    },
    {
      "cell_type": "code",
      "execution_count": null,
      "id": "95646f5a",
      "metadata": {
        "id": "95646f5a"
      },
      "outputs": [],
      "source": [
        "staff_list = [\"Wenjuan\", \"Katy\", \"Liping\", \"Michael\", \"Salimeh\"]\n",
        "\n",
        "while staff_list:\n",
        "    staff = staff_list.pop(-1)\n",
        "    print(f\"{staff} went home.\")\n",
        "print(\"There are no staff available.\")"
      ]
    },
    {
      "cell_type": "markdown",
      "id": "167fc87a",
      "metadata": {
        "id": "167fc87a"
      },
      "source": [
        "### else Statement\n",
        "\n",
        "We can also use the hopefully familiar else statement, to run some code when the while loops condition is no longer True."
      ]
    },
    {
      "cell_type": "code",
      "execution_count": null,
      "id": "1547a08f",
      "metadata": {
        "id": "1547a08f"
      },
      "outputs": [],
      "source": [
        "staff_list = [\"Wenjuan\", \"Katy\", \"Liping\", \"Michael\", \"Salimeh\"]\n",
        "\n",
        "while staff_list:\n",
        "    staff = staff_list.pop(-1)\n",
        "    print(f\"{staff} went home.\")\n",
        "else:\n",
        "    print(\"There are no staff available.\")"
      ]
    },
    {
      "cell_type": "markdown",
      "id": "b684286d",
      "metadata": {
        "id": "b684286d"
      },
      "source": [
        "The difference between using the else statement and just running code outside of the loop, may not be obvious. The difference between the two methods is that the else statement only triggers if the loop ends naturally. There are ways of ending a loop prematurely which we will introduce later on in this notebook, when using the else statement the code will not execute in these instances."
      ]
    },
    {
      "cell_type": "code",
      "execution_count": null,
      "id": "0488c0af",
      "metadata": {
        "id": "0488c0af"
      },
      "outputs": [],
      "source": [
        "staff_list = [\"Wenjuan\", \"Katy\", \"Liping\", \"Michael\", \"Salimeh\"]\n",
        "\n",
        "while staff_list:\n",
        "    staff = staff_list.pop(-1)\n",
        "    print(f\"{staff} went home.\")\n",
        "    break\n",
        "else:\n",
        "    print(\"There are no staff available.\")"
      ]
    },
    {
      "cell_type": "markdown",
      "id": "3c47d8e3",
      "metadata": {
        "id": "3c47d8e3"
      },
      "source": [
        "### Break\n",
        "\n",
        "The break keyword is used to end a loop, even if the while loop condition is still True, once the program hits the break, the loop ends."
      ]
    },
    {
      "cell_type": "code",
      "execution_count": null,
      "id": "7168dcfa",
      "metadata": {
        "id": "7168dcfa"
      },
      "outputs": [],
      "source": [
        "while True:\n",
        "    print(\"YAWN!!!\")\n",
        "    break"
      ]
    },
    {
      "cell_type": "markdown",
      "id": "f35c1641",
      "metadata": {
        "id": "f35c1641"
      },
      "source": [
        "### Continue\n",
        "\n",
        "If we don't want to completely end the loop and just the current iteration we can use the continue keyword. When you use continue the current iteration ends and we start again with the next iteration."
      ]
    },
    {
      "cell_type": "code",
      "execution_count": null,
      "id": "e7a44f4e",
      "metadata": {
        "id": "e7a44f4e"
      },
      "outputs": [],
      "source": [
        "count = 10\n",
        "\n",
        "while count > 0:\n",
        "    if count % 2 != 0:\n",
        "        count -= 1\n",
        "        continue\n",
        "    print(count)\n",
        "    count -= 1"
      ]
    },
    {
      "cell_type": "markdown",
      "id": "26dcdb86",
      "metadata": {
        "id": "26dcdb86"
      },
      "source": [
        "Above we have our countdown again, but inside the while loop this time, is an if statement checking if the count is an odd number. We then use a continue statement to break out of the iteration before the count is printed.\n",
        "\n",
        "*Note: Break and continue work exactly the same way in for loops.*"
      ]
    },
    {
      "cell_type": "markdown",
      "id": "94d6d0cb",
      "metadata": {
        "id": "94d6d0cb"
      },
      "source": [
        "#### While Loop Syntax\n",
        "\n",
        "In some of the previous code, you might find ```while staff_list:``` a bit nonsensical, but it is just a short way of expressing ```while staff_list == True:```. Most programmers will write it this way, so just be aware.\n",
        "\n",
        "If you want to run your while loop, if a condition is false then you would use the not keyword before the conditional statement."
      ]
    },
    {
      "cell_type": "code",
      "execution_count": null,
      "id": "e3668d36",
      "metadata": {
        "id": "e3668d36"
      },
      "outputs": [],
      "source": [
        "nexus_destroyed = False\n",
        "\n",
        "while not nexus_destroyed:\n",
        "    print(\"This code has executed\")\n",
        "    break"
      ]
    },
    {
      "cell_type": "markdown",
      "id": "5f93836d",
      "metadata": {
        "id": "5f93836d"
      },
      "source": [
        "## For Loops\n",
        "\n",
        "Unlike the while loop, which repeats based on a conditional statement. A for loop repeats a set amount of times that we specify or once for each element in a sequence.\n",
        "\n",
        "For example, we could have a classroom with thirty students and we want to write a for loop that performs some action thirty times. We could do this by either specifying that the for loop should run thirty times or we could say run once for each student."
      ]
    },
    {
      "cell_type": "code",
      "execution_count": null,
      "id": "d5cd15dd",
      "metadata": {
        "id": "d5cd15dd"
      },
      "outputs": [],
      "source": [
        "staff_list = [\"Wenjuan\", \"Katy\", \"Liping\", \"Michael\", \"Salimeh\"]\n",
        "\n",
        "for staff_member in staff_list:\n",
        "    print(staff_member)"
      ]
    },
    {
      "cell_type": "markdown",
      "id": "1779340f",
      "metadata": {
        "id": "1779340f"
      },
      "source": [
        "Above we can see how we iterate through each item in a sequence. We have a list with five items and we then use a for loop to iterate through that list and we temporarily save the value for that item in a variable called staff_member. We then print that variable and move onto the next item in the list."
      ]
    },
    {
      "cell_type": "code",
      "execution_count": null,
      "id": "7df40ff2",
      "metadata": {
        "id": "7df40ff2"
      },
      "outputs": [],
      "source": [
        "for i in range(10):\n",
        "    print(i)"
      ]
    },
    {
      "cell_type": "markdown",
      "id": "ecff2454",
      "metadata": {
        "id": "ecff2454"
      },
      "source": [
        "Above is an example of a for loop where you specify the number of iterations. We use the range() function to achieve this, the range function. The range function returns a sequence of numbers, so in reality the above method is exactly the same as the first method and we are just iterating over a range object instead of a list.\n",
        "\n",
        "*Note: Using i (index) as your variable name is the standard when iterating through a range sequence*\n",
        "\n",
        "The range function by default starts at zero, increasing in increments of one, until it reaches the index position passed into the function. If we recall back to string slicing, where the stop position stops at, but does not include the value at that index position. It is also worth noting that the range function also has optional parameters using start, stop and step.\n",
        "\n",
        "We can convert the range object to a list to better demonstrate this."
      ]
    },
    {
      "cell_type": "code",
      "execution_count": null,
      "id": "f5423146",
      "metadata": {
        "id": "f5423146"
      },
      "outputs": [],
      "source": [
        "print(list(range(10)))"
      ]
    },
    {
      "cell_type": "code",
      "execution_count": null,
      "id": "c8cac464",
      "metadata": {
        "id": "c8cac464"
      },
      "outputs": [],
      "source": [
        "print(list(range(2, 9, 2)))\n",
        "print(\"Who do we appreciate?\")"
      ]
    },
    {
      "cell_type": "code",
      "execution_count": null,
      "id": "a23f4c58",
      "metadata": {
        "id": "a23f4c58"
      },
      "outputs": [],
      "source": [
        "print(list(range(10, 0, -1)))"
      ]
    },
    {
      "cell_type": "markdown",
      "id": "984b3779",
      "metadata": {
        "id": "984b3779"
      },
      "source": [
        "For loops cannot be empty, and an empty for loop will result in an SyntaxError. If you write a for loop but have no code to put in it at that time, you can use the pass keyword. A pass statement is a placeholder, which satisfies the loops requirement to not be empty, but doesn't actually do anything."
      ]
    },
    {
      "cell_type": "code",
      "execution_count": null,
      "id": "577d20d4",
      "metadata": {
        "id": "577d20d4"
      },
      "outputs": [],
      "source": [
        "for i in range(10):\n",
        "    pass"
      ]
    },
    {
      "cell_type": "markdown",
      "id": "f9c9e3d3",
      "metadata": {
        "id": "f9c9e3d3"
      },
      "source": [
        "### For Loop Dictionary Iteration"
      ]
    },
    {
      "cell_type": "code",
      "execution_count": null,
      "id": "120d99b1",
      "metadata": {
        "id": "120d99b1"
      },
      "outputs": [],
      "source": [
        "my_dictionary = {\n",
        "    \"Katy\": \"Death Metal\",\n",
        "    \"Michael\": \"Synthwave\",\n",
        "    \"Mark\": \"White Noise\",\n",
        "    \"Wenjuan\": \"Chicago Dril\"\n",
        "}"
      ]
    },
    {
      "cell_type": "markdown",
      "id": "b13d1b38",
      "metadata": {
        "id": "b13d1b38"
      },
      "source": [
        "Due to the key:value nature of dictionaries, iterating over them is slightly different than other sequences. If you iterate over a dictionary as you would a list, the default item iterated over is the keys and not the key: value pair itself. To access the values, use the .values() method and to access both the keys and values, use the .items() method."
      ]
    },
    {
      "cell_type": "code",
      "execution_count": null,
      "id": "b8fd1f5f",
      "metadata": {
        "id": "b8fd1f5f"
      },
      "outputs": [],
      "source": [
        "for key in my_dictionary:\n",
        "    print(key)"
      ]
    },
    {
      "cell_type": "code",
      "execution_count": null,
      "id": "a9a34019",
      "metadata": {
        "id": "a9a34019"
      },
      "outputs": [],
      "source": [
        "for values in my_dictionary.values():\n",
        "    print(values)"
      ]
    },
    {
      "cell_type": "code",
      "execution_count": null,
      "id": "454d8865",
      "metadata": {
        "id": "454d8865"
      },
      "outputs": [],
      "source": [
        "for item in my_dictionary.items():\n",
        "    print(item)"
      ]
    },
    {
      "cell_type": "markdown",
      "id": "ddd1b3ee",
      "metadata": {
        "id": "ddd1b3ee"
      },
      "source": [
        "## List Comprehensions\n",
        "\n",
        "We will talk about list comprehensions later in the bootcamp, but essentially a list comprehension is a quick way to define a list use a for loop in a single line of code. A simple example below will illustrate a list comprehension. For now just be aware that they exist, if you use a for loop to create a list, do it in whatever way is easiest for you to understand at the present moment."
      ]
    },
    {
      "cell_type": "code",
      "execution_count": null,
      "id": "d38525f8",
      "metadata": {
        "id": "d38525f8"
      },
      "outputs": [],
      "source": [
        "my_list = [1, 2, 3, 4, 5, 6, 7, 8, 9, 10, 11, 12, 13, 14, 15, 16, 17, 18, 19, 20]\n",
        "my_list"
      ]
    },
    {
      "cell_type": "code",
      "execution_count": null,
      "id": "650853a2",
      "metadata": {
        "id": "650853a2"
      },
      "outputs": [],
      "source": [
        "my_old_list = []\n",
        "\n",
        "for i in range(20):\n",
        "    my_old_list.append(i + 1)\n",
        "\n",
        "my_old_list"
      ]
    },
    {
      "cell_type": "code",
      "execution_count": null,
      "id": "b0227f33",
      "metadata": {
        "id": "b0227f33"
      },
      "outputs": [],
      "source": [
        "my_new_list = [i + 1 for i in range(20)]\n",
        "my_new_list"
      ]
    },
    {
      "cell_type": "markdown",
      "id": "ddf4db60",
      "metadata": {
        "id": "ddf4db60"
      },
      "source": [
        "1st example: We created a variable containing a list that we typed out by hand.\n",
        "\n",
        "2nd example: We created a variable containing an empty list, and use a for loop to append the items to the list.\n",
        "\n",
        "3rd example: We created a variable containing a list and we use a for loop inside of that list to generate our items."
      ]
    },
    {
      "cell_type": "code",
      "execution_count": null,
      "id": "c2822e06",
      "metadata": {
        "id": "c2822e06"
      },
      "outputs": [],
      "source": []
    }
  ],
  "metadata": {
    "kernelspec": {
      "display_name": "Python 3 (ipykernel)",
      "language": "python",
      "name": "python3"
    },
    "language_info": {
      "codemirror_mode": {
        "name": "ipython",
        "version": 3
      },
      "file_extension": ".py",
      "mimetype": "text/x-python",
      "name": "python",
      "nbconvert_exporter": "python",
      "pygments_lexer": "ipython3",
      "version": "3.8.8"
    },
    "colab": {
      "provenance": [],
      "include_colab_link": true
    }
  },
  "nbformat": 4,
  "nbformat_minor": 5
}